{
 "cells": [
  {
   "cell_type": "code",
   "execution_count": 1,
   "metadata": {},
   "outputs": [
    {
     "name": "stderr",
     "output_type": "stream",
     "text": [
      "/home/piotr/projects/ml-project/.venv/lib/python3.10/site-packages/tqdm/auto.py:21: TqdmWarning: IProgress not found. Please update jupyter and ipywidgets. See https://ipywidgets.readthedocs.io/en/stable/user_install.html\n",
      "  from .autonotebook import tqdm as notebook_tqdm\n"
     ]
    }
   ],
   "source": [
    "from sklearn.compose import ColumnTransformer\n",
    "from optuna import Trial\n",
    "import pandas as pd\n",
    "from utils.utils import load_config\n",
    "import sklearn.ensemble as ens\n",
    "from utils.PCA_Transformer import PCA_Transform\n",
    "from sklearn.impute import KNNImputer\n",
    "from sklearn.preprocessing import StandardScaler#, OneHotEncoder\n",
    "import numpy as np\n",
    "from sklearn.model_selection import train_test_split"
   ]
  },
  {
   "cell_type": "code",
   "execution_count": 2,
   "metadata": {},
   "outputs": [],
   "source": [
    "config = load_config()\n",
    "df = pd.read_csv('processed/apartments.csv', index_col = 0)\n",
    "target = config['sources']['apartments']['target']\n",
    "pca_columns = config['sources']['apartments']['pca']['columns']\n",
    "drop_columns = ['rooms']\n",
    "to_drop = drop_columns + [target] #pca_columns + \n",
    "X = df.drop(to_drop, axis =1)\n",
    "#X_ohe = pd.get_dummies(X)\n",
    "y = df[target]\n",
    "cat_cols = ['city']\n",
    "num_cols = ['squareMeters','centreDistance','buildYear','latitude','longitude']"
   ]
  },
  {
   "cell_type": "code",
   "execution_count": 3,
   "metadata": {},
   "outputs": [],
   "source": [
    "cols_pca = ['schoolDistance', 'clinicDistance', 'postOfficeDistance', 'kindergartenDistance','restaurantDistance','collegeDistance','pharmacyDistance']"
   ]
  },
  {
   "cell_type": "code",
   "execution_count": 4,
   "metadata": {},
   "outputs": [
    {
     "data": {
      "text/html": [
       "<div>\n",
       "<style scoped>\n",
       "    .dataframe tbody tr th:only-of-type {\n",
       "        vertical-align: middle;\n",
       "    }\n",
       "\n",
       "    .dataframe tbody tr th {\n",
       "        vertical-align: top;\n",
       "    }\n",
       "\n",
       "    .dataframe thead th {\n",
       "        text-align: right;\n",
       "    }\n",
       "</style>\n",
       "<table border=\"1\" class=\"dataframe\">\n",
       "  <thead>\n",
       "    <tr style=\"text-align: right;\">\n",
       "      <th></th>\n",
       "      <th>city</th>\n",
       "      <th>type</th>\n",
       "      <th>squareMeters</th>\n",
       "      <th>floor</th>\n",
       "      <th>floorCount</th>\n",
       "      <th>buildYear</th>\n",
       "      <th>latitude</th>\n",
       "      <th>longitude</th>\n",
       "      <th>centreDistance</th>\n",
       "      <th>poiCount</th>\n",
       "      <th>...</th>\n",
       "      <th>kindergartenDistance</th>\n",
       "      <th>restaurantDistance</th>\n",
       "      <th>collegeDistance</th>\n",
       "      <th>pharmacyDistance</th>\n",
       "      <th>ownership</th>\n",
       "      <th>hasParkingSpace</th>\n",
       "      <th>hasBalcony</th>\n",
       "      <th>hasElevator</th>\n",
       "      <th>hasSecurity</th>\n",
       "      <th>hasStorageRoom</th>\n",
       "    </tr>\n",
       "  </thead>\n",
       "  <tbody>\n",
       "    <tr>\n",
       "      <th>0</th>\n",
       "      <td>szczecin</td>\n",
       "      <td>blockOfFlats</td>\n",
       "      <td>63.00</td>\n",
       "      <td>4.0</td>\n",
       "      <td>10.0</td>\n",
       "      <td>1980.0</td>\n",
       "      <td>53.378933</td>\n",
       "      <td>14.625296</td>\n",
       "      <td>6.53</td>\n",
       "      <td>9.0</td>\n",
       "      <td>...</td>\n",
       "      <td>0.105</td>\n",
       "      <td>1.652</td>\n",
       "      <td>NaN</td>\n",
       "      <td>0.413</td>\n",
       "      <td>condominium</td>\n",
       "      <td>yes</td>\n",
       "      <td>yes</td>\n",
       "      <td>yes</td>\n",
       "      <td>no</td>\n",
       "      <td>yes</td>\n",
       "    </tr>\n",
       "    <tr>\n",
       "      <th>1</th>\n",
       "      <td>szczecin</td>\n",
       "      <td>blockOfFlats</td>\n",
       "      <td>36.00</td>\n",
       "      <td>8.0</td>\n",
       "      <td>10.0</td>\n",
       "      <td>NaN</td>\n",
       "      <td>53.442692</td>\n",
       "      <td>14.559690</td>\n",
       "      <td>2.15</td>\n",
       "      <td>16.0</td>\n",
       "      <td>...</td>\n",
       "      <td>0.291</td>\n",
       "      <td>0.348</td>\n",
       "      <td>1.404</td>\n",
       "      <td>0.205</td>\n",
       "      <td>cooperative</td>\n",
       "      <td>no</td>\n",
       "      <td>yes</td>\n",
       "      <td>yes</td>\n",
       "      <td>no</td>\n",
       "      <td>yes</td>\n",
       "    </tr>\n",
       "    <tr>\n",
       "      <th>2</th>\n",
       "      <td>szczecin</td>\n",
       "      <td>tenement</td>\n",
       "      <td>73.02</td>\n",
       "      <td>2.0</td>\n",
       "      <td>3.0</td>\n",
       "      <td>NaN</td>\n",
       "      <td>53.452222</td>\n",
       "      <td>14.553333</td>\n",
       "      <td>3.24</td>\n",
       "      <td>9.0</td>\n",
       "      <td>...</td>\n",
       "      <td>0.246</td>\n",
       "      <td>0.300</td>\n",
       "      <td>1.857</td>\n",
       "      <td>0.280</td>\n",
       "      <td>condominium</td>\n",
       "      <td>no</td>\n",
       "      <td>no</td>\n",
       "      <td>no</td>\n",
       "      <td>no</td>\n",
       "      <td>no</td>\n",
       "    </tr>\n",
       "    <tr>\n",
       "      <th>3</th>\n",
       "      <td>szczecin</td>\n",
       "      <td>tenement</td>\n",
       "      <td>87.60</td>\n",
       "      <td>2.0</td>\n",
       "      <td>3.0</td>\n",
       "      <td>NaN</td>\n",
       "      <td>53.435100</td>\n",
       "      <td>14.532900</td>\n",
       "      <td>2.27</td>\n",
       "      <td>32.0</td>\n",
       "      <td>...</td>\n",
       "      <td>0.359</td>\n",
       "      <td>0.101</td>\n",
       "      <td>0.310</td>\n",
       "      <td>0.087</td>\n",
       "      <td>condominium</td>\n",
       "      <td>yes</td>\n",
       "      <td>yes</td>\n",
       "      <td>no</td>\n",
       "      <td>no</td>\n",
       "      <td>yes</td>\n",
       "    </tr>\n",
       "    <tr>\n",
       "      <th>4</th>\n",
       "      <td>szczecin</td>\n",
       "      <td>blockOfFlats</td>\n",
       "      <td>66.00</td>\n",
       "      <td>1.0</td>\n",
       "      <td>3.0</td>\n",
       "      <td>NaN</td>\n",
       "      <td>53.410278</td>\n",
       "      <td>14.503611</td>\n",
       "      <td>4.07</td>\n",
       "      <td>1.0</td>\n",
       "      <td>...</td>\n",
       "      <td>0.704</td>\n",
       "      <td>0.501</td>\n",
       "      <td>2.138</td>\n",
       "      <td>0.514</td>\n",
       "      <td>condominium</td>\n",
       "      <td>no</td>\n",
       "      <td>no</td>\n",
       "      <td>no</td>\n",
       "      <td>no</td>\n",
       "      <td>no</td>\n",
       "    </tr>\n",
       "  </tbody>\n",
       "</table>\n",
       "<p>5 rows × 23 columns</p>\n",
       "</div>"
      ],
      "text/plain": [
       "       city          type  squareMeters  floor  floorCount  buildYear  \\\n",
       "0  szczecin  blockOfFlats         63.00    4.0        10.0     1980.0   \n",
       "1  szczecin  blockOfFlats         36.00    8.0        10.0        NaN   \n",
       "2  szczecin      tenement         73.02    2.0         3.0        NaN   \n",
       "3  szczecin      tenement         87.60    2.0         3.0        NaN   \n",
       "4  szczecin  blockOfFlats         66.00    1.0         3.0        NaN   \n",
       "\n",
       "    latitude  longitude  centreDistance  poiCount  ...  kindergartenDistance  \\\n",
       "0  53.378933  14.625296            6.53       9.0  ...                 0.105   \n",
       "1  53.442692  14.559690            2.15      16.0  ...                 0.291   \n",
       "2  53.452222  14.553333            3.24       9.0  ...                 0.246   \n",
       "3  53.435100  14.532900            2.27      32.0  ...                 0.359   \n",
       "4  53.410278  14.503611            4.07       1.0  ...                 0.704   \n",
       "\n",
       "   restaurantDistance  collegeDistance  pharmacyDistance    ownership  \\\n",
       "0               1.652              NaN             0.413  condominium   \n",
       "1               0.348            1.404             0.205  cooperative   \n",
       "2               0.300            1.857             0.280  condominium   \n",
       "3               0.101            0.310             0.087  condominium   \n",
       "4               0.501            2.138             0.514  condominium   \n",
       "\n",
       "   hasParkingSpace  hasBalcony hasElevator hasSecurity hasStorageRoom  \n",
       "0              yes         yes         yes          no            yes  \n",
       "1               no         yes         yes          no            yes  \n",
       "2               no          no          no          no             no  \n",
       "3              yes         yes          no          no            yes  \n",
       "4               no          no          no          no             no  \n",
       "\n",
       "[5 rows x 23 columns]"
      ]
     },
     "execution_count": 4,
     "metadata": {},
     "output_type": "execute_result"
    }
   ],
   "source": [
    "X.head()"
   ]
  },
  {
   "cell_type": "code",
   "execution_count": 5,
   "metadata": {},
   "outputs": [
    {
     "data": {
      "text/plain": [
       "floor                   18.185665\n",
       "buildYear               17.302301\n",
       "collegeDistance          2.988627\n",
       "floorCount               1.385877\n",
       "clinicDistance           0.465485\n",
       "restaurantDistance       0.306797\n",
       "pharmacyDistance         0.142819\n",
       "postOfficeDistance       0.132240\n",
       "schoolDistance           0.074054\n",
       "kindergartenDistance     0.068765\n",
       "hasStorageRoom           0.000000\n",
       "hasSecurity              0.000000\n",
       "hasElevator              0.000000\n",
       "hasBalcony               0.000000\n",
       "hasParkingSpace          0.000000\n",
       "ownership                0.000000\n",
       "city                     0.000000\n",
       "type                     0.000000\n",
       "poiCount                 0.000000\n",
       "centreDistance           0.000000\n",
       "longitude                0.000000\n",
       "latitude                 0.000000\n",
       "rooms                    0.000000\n",
       "squareMeters             0.000000\n",
       "price                    0.000000\n",
       "dtype: float64"
      ]
     },
     "execution_count": 5,
     "metadata": {},
     "output_type": "execute_result"
    }
   ],
   "source": [
    "df.isna().sum(  \n",
    ").sort_values(ascending=False)/len(df) * 100"
   ]
  },
  {
   "cell_type": "code",
   "execution_count": 6,
   "metadata": {},
   "outputs": [
    {
     "name": "stdout",
     "output_type": "stream",
     "text": [
      "<class 'pandas.core.frame.DataFrame'>\n",
      "Index: 18905 entries, 0 to 18904\n",
      "Data columns (total 25 columns):\n",
      " #   Column                Non-Null Count  Dtype  \n",
      "---  ------                --------------  -----  \n",
      " 0   city                  18905 non-null  object \n",
      " 1   type                  18905 non-null  object \n",
      " 2   squareMeters          18905 non-null  float64\n",
      " 3   rooms                 18905 non-null  float64\n",
      " 4   floor                 15467 non-null  float64\n",
      " 5   floorCount            18643 non-null  float64\n",
      " 6   buildYear             15634 non-null  float64\n",
      " 7   latitude              18905 non-null  float64\n",
      " 8   longitude             18905 non-null  float64\n",
      " 9   centreDistance        18905 non-null  float64\n",
      " 10  poiCount              18905 non-null  float64\n",
      " 11  schoolDistance        18891 non-null  float64\n",
      " 12  clinicDistance        18817 non-null  float64\n",
      " 13  postOfficeDistance    18880 non-null  float64\n",
      " 14  kindergartenDistance  18892 non-null  float64\n",
      " 15  restaurantDistance    18847 non-null  float64\n",
      " 16  collegeDistance       18340 non-null  float64\n",
      " 17  pharmacyDistance      18878 non-null  float64\n",
      " 18  ownership             18905 non-null  object \n",
      " 19  hasParkingSpace       18905 non-null  object \n",
      " 20  hasBalcony            18905 non-null  object \n",
      " 21  hasElevator           18905 non-null  object \n",
      " 22  hasSecurity           18905 non-null  object \n",
      " 23  hasStorageRoom        18905 non-null  object \n",
      " 24  price                 18905 non-null  int64  \n",
      "dtypes: float64(16), int64(1), object(8)\n",
      "memory usage: 3.8+ MB\n"
     ]
    }
   ],
   "source": [
    "df.info()"
   ]
  },
  {
   "cell_type": "code",
   "execution_count": 7,
   "metadata": {},
   "outputs": [],
   "source": [
    "num_columns = list(X.select_dtypes(\"number\").columns.values)\n",
    "obj_columns = list(X.select_dtypes(\"object\").columns.values)"
   ]
  },
  {
   "cell_type": "code",
   "execution_count": 8,
   "metadata": {},
   "outputs": [
    {
     "data": {
      "text/plain": [
       "['squareMeters',\n",
       " 'floor',\n",
       " 'floorCount',\n",
       " 'buildYear',\n",
       " 'latitude',\n",
       " 'longitude',\n",
       " 'centreDistance',\n",
       " 'poiCount',\n",
       " 'schoolDistance',\n",
       " 'clinicDistance',\n",
       " 'postOfficeDistance',\n",
       " 'kindergartenDistance',\n",
       " 'restaurantDistance',\n",
       " 'collegeDistance',\n",
       " 'pharmacyDistance']"
      ]
     },
     "execution_count": 8,
     "metadata": {},
     "output_type": "execute_result"
    }
   ],
   "source": [
    "num_columns"
   ]
  },
  {
   "cell_type": "code",
   "execution_count": 9,
   "metadata": {},
   "outputs": [
    {
     "data": {
      "text/plain": [
       "(15, 8, 25)"
      ]
     },
     "execution_count": 9,
     "metadata": {},
     "output_type": "execute_result"
    }
   ],
   "source": [
    "len(num_columns),len(obj_columns), len(df.columns)"
   ]
  },
  {
   "cell_type": "code",
   "execution_count": 10,
   "metadata": {},
   "outputs": [
    {
     "name": "stdout",
     "output_type": "stream",
     "text": [
      "<class 'pandas.core.frame.DataFrame'>\n",
      "Index: 18905 entries, 0 to 18904\n",
      "Data columns (total 23 columns):\n",
      " #   Column                Non-Null Count  Dtype   \n",
      "---  ------                --------------  -----   \n",
      " 0   city                  18905 non-null  category\n",
      " 1   type                  18905 non-null  category\n",
      " 2   squareMeters          18905 non-null  float64 \n",
      " 3   floor                 15467 non-null  float64 \n",
      " 4   floorCount            18643 non-null  float64 \n",
      " 5   buildYear             15634 non-null  float64 \n",
      " 6   latitude              18905 non-null  float64 \n",
      " 7   longitude             18905 non-null  float64 \n",
      " 8   centreDistance        18905 non-null  float64 \n",
      " 9   poiCount              18905 non-null  float64 \n",
      " 10  schoolDistance        18891 non-null  float64 \n",
      " 11  clinicDistance        18817 non-null  float64 \n",
      " 12  postOfficeDistance    18880 non-null  float64 \n",
      " 13  kindergartenDistance  18892 non-null  float64 \n",
      " 14  restaurantDistance    18847 non-null  float64 \n",
      " 15  collegeDistance       18340 non-null  float64 \n",
      " 16  pharmacyDistance      18878 non-null  float64 \n",
      " 17  ownership             18905 non-null  category\n",
      " 18  hasParkingSpace       18905 non-null  category\n",
      " 19  hasBalcony            18905 non-null  category\n",
      " 20  hasElevator           18905 non-null  category\n",
      " 21  hasSecurity           18905 non-null  category\n",
      " 22  hasStorageRoom        18905 non-null  category\n",
      "dtypes: category(8), float64(15)\n",
      "memory usage: 2.5 MB\n"
     ]
    }
   ],
   "source": [
    "X[X.select_dtypes(\"object\").columns.to_list()]  = X[X.select_dtypes(\"object\").columns.to_list()].astype('category')\n",
    "X.info()"
   ]
  },
  {
   "cell_type": "code",
   "execution_count": 15,
   "metadata": {},
   "outputs": [],
   "source": [
    "X_train, X_test, y_train, y_test = train_test_split(X,y,test_size=0.2, random_state=12)"
   ]
  },
  {
   "cell_type": "code",
   "execution_count": 42,
   "metadata": {},
   "outputs": [],
   "source": [
    "from sklearn.ensemble import RandomForestRegressor, ExtraTreesRegressor\n",
    "from sklearn.linear_model import LinearRegression\n",
    "\n",
    "def instantiate_random_forest(trial : Trial) -> RandomForestRegressor:\n",
    "  params = {\n",
    "    'n_estimators': trial.suggest_int('n_estimators', 50, 1000),\n",
    "    'max_depth': trial.suggest_int('max_depth', 1, 20),\n",
    "    'max_features': trial.suggest_float('max_features', 0, 1),\n",
    "    'bootstrap': trial.suggest_categorical('bootstrap', [True, False]),\n",
    "    'n_jobs': -1,\n",
    "    'random_state': 42\n",
    "  }\n",
    "  return RandomForestRegressor(**params)\n",
    "\n",
    "def instantiate_extra_forest(trial : Trial) -> ExtraTreesRegressor:\n",
    "  params = {\n",
    "    'n_estimators': trial.suggest_int('n_estimators', 50, 1000),\n",
    "    'max_depth': trial.suggest_int('max_depth', 1, 20),\n",
    "    'max_features': trial.suggest_float('max_features', 0, 1),\n",
    "    'bootstrap': trial.suggest_categorical('bootstrap', [True, False]),\n",
    "    'n_jobs': -1,\n",
    "    'random_state': 42\n",
    "  }\n",
    "  return ExtraTreesRegressor(**params)\n",
    "\n",
    "def instantiate_linear_regression(trial : Trial) -> LinearRegression:\n",
    "  params = {\n",
    "    'fit_intercept': trial.suggest_categorical('fit_intercept', [True, False]),\n",
    "    'n_jobs': -1\n",
    "  }\n",
    "  return LinearRegression(**params)\n",
    "\n",
    "Classifier = (\n",
    "  RandomForestRegressor |\n",
    "  ExtraTreesRegressor |\n",
    "  LinearRegression\n",
    ")\n",
    "\n",
    "def instantiate_learner(trial : Trial) -> Classifier:\n",
    "  algorithm = trial.suggest_categorical(\n",
    "    'algorithm', ['linear', 'forest', 'extra_forest']\n",
    "  )\n",
    "  if algorithm=='linear':\n",
    "    model = instantiate_linear_regression(trial)\n",
    "  elif algorithm=='forest':\n",
    "    model = instantiate_random_forest(trial)\n",
    "  elif algorithm=='extra_forest':\n",
    "    model = instantiate_extra_forest(trial)\n",
    "  \n",
    "  return model"
   ]
  },
  {
   "cell_type": "code",
   "execution_count": 43,
   "metadata": {},
   "outputs": [],
   "source": [
    "from sklearn.preprocessing import OrdinalEncoder, OneHotEncoder\n",
    "from category_encoders import WOEEncoder\n",
    "\n",
    "Encoder = (\n",
    "  OrdinalEncoder |\n",
    "  OneHotEncoder |\n",
    "  WOEEncoder\n",
    ")\n",
    "def instantiate_woe_encoder(trial : Trial) -> WOEEncoder:\n",
    "  params = {\n",
    "    'sigma': trial.suggest_float('sigma', 0.001, 5),\n",
    "    'regularization': trial.suggest_float('regularization', 0, 5),\n",
    "    'randomized': trial.suggest_categorical('randomized', [True, False])\n",
    "  }\n",
    "  return WOEEncoder(**params)\n",
    "\n",
    "def instantiate_ohe_encoder(trial : Trial) -> OneHotEncoder:\n",
    "  return OneHotEncoder(handle_unknown='error')\n",
    "\n",
    "def instantiate_ordinal_encoder(trial : Trial) -> OneHotEncoder:\n",
    "  return OrdinalEncoder(handle_unknown='error')\n",
    "\n",
    "def instantiate_encoder(trial : Trial) -> Encoder:\n",
    "  method = trial.suggest_categorical(\n",
    "    'encoding_method', ['ordinal', 'onehot', 'woe']\n",
    "  )\n",
    "  \n",
    "  if method=='ordinal':\n",
    "    encoder = instantiate_ordinal_encoder(trial)\n",
    "  elif method=='onehot':\n",
    "    encoder = instantiate_ohe_encoder(trial)\n",
    "  elif method=='woe':\n",
    "    encoder = instantiate_woe_encoder(trial)\n",
    "  \n",
    "  return encoder"
   ]
  },
  {
   "cell_type": "code",
   "execution_count": 74,
   "metadata": {},
   "outputs": [],
   "source": [
    "def choose_columns(all_columns : list[str]):\n",
    "    from utils.utils import load_config\n",
    "    config = load_config()\n",
    "    include_columns = config['sources']['apartments']['pca']['columns']\n",
    "    exclude_columns = []\n",
    "    if len(set(include_columns).intersection(exclude_columns))>0:\n",
    "        raise Exception(\"Column name cant be in included and excluded at the same time\")\n",
    "    \n",
    "    remain_columns = list(set(all_columns).difference(set(include_columns).union(set(exclude_columns))))\n",
    "    exclude_columns = set(exclude_columns).intersection(all_columns)\n",
    "    include_columns = set(include_columns).intersection(all_columns)\n",
    "    return remain_columns, include_columns, exclude_columns"
   ]
  },
  {
   "cell_type": "code",
   "execution_count": 77,
   "metadata": {},
   "outputs": [],
   "source": [
    "def initialize_columns(trial : Trial, columns : list[str]) -> list[str]:\n",
    "\n",
    "  remain_columns, include_columns, exclude_columns = choose_columns(columns)\n",
    "\n",
    "  choose = lambda column: trial.suggest_categorical(column, [True, False])\n",
    "  choose_true = lambda column: trial.suggest_categorical(column, [True])\n",
    "  choose_false = lambda column: trial.suggest_categorical(column, [False])\n",
    "  choices = [*filter(choose, remain_columns)]\n",
    "  choices_true =  [*filter(choose_true, include_columns)]\n",
    "  choices_false =  [*filter(choose_false, exclude_columns)]\n",
    "  print(f\"choices: {choices}, choices_true: {choices_true},  choices_false: {choices_false}\")\n",
    "  return choices + choices_true"
   ]
  },
  {
   "cell_type": "code",
   "execution_count": 13,
   "metadata": {},
   "outputs": [],
   "source": [
    "from sklearn.preprocessing import RobustScaler\n",
    "#RobustScaler better than StandardScaler because of outliers\n",
    "def instantiate_robust_scaler(trial : Trial) -> RobustScaler:\n",
    "  params = {\n",
    "    'with_centering': trial.suggest_categorical(\n",
    "      'with_centering', [True, False]\n",
    "    ),\n",
    "    'with_scaling': trial.suggest_categorical(\n",
    "      'with_scaling', [True, False]\n",
    "    )\n",
    "  }\n",
    "  return RobustScaler(**params)"
   ]
  },
  {
   "cell_type": "code",
   "execution_count": 66,
   "metadata": {},
   "outputs": [],
   "source": [
    "from sklearn.pipeline import Pipeline\n",
    "\n",
    "\n",
    "def instantiate_numerical_pipeline(trial : Trial, columns: list[str] = None) -> Pipeline:\n",
    "  pipeline = Pipeline([\n",
    "    ('imputer', KNNImputer(n_neighbors=5)),\n",
    "    ('scaler', instantiate_robust_scaler(trial)),\n",
    "    ('pca', PCA_Transform(columns))\n",
    "  ])\n",
    "  return pipeline\n",
    "\n",
    "def instantiate_categorical_pipeline(trial : Trial, columns: list[str] = None) -> Pipeline:\n",
    "  pipeline = Pipeline([\n",
    "    ('encoder', instantiate_encoder(trial)),\n",
    "    #('imputer', KNNImputer(n_neighbors=5)), categorical nans were replaced with 'Other'?\n",
    "    ('scaler', instantiate_robust_scaler(trial)) \n",
    "  ])\n",
    "  return pipeline"
   ]
  },
  {
   "cell_type": "code",
   "execution_count": 80,
   "metadata": {},
   "outputs": [],
   "source": [
    "from sklearn.compose import ColumnTransformer\n",
    "\n",
    "def instantiate_processor(trial : Trial, numerical_columns : list[str], categorical_columns : list[str]) -> ColumnTransformer:\n",
    "\n",
    "  selected_numerical_columns = initialize_columns(trial, numerical_columns)\n",
    "  selected_categorical_columns = initialize_columns(trial, categorical_columns)\n",
    "\n",
    "  numerical_pipeline = instantiate_numerical_pipeline(trial, selected_numerical_columns)\n",
    "  categorical_pipeline = instantiate_categorical_pipeline(trial)\n",
    "  \n",
    "  \n",
    "\n",
    "  processor = ColumnTransformer([\n",
    "   ('numerical_pipeline', numerical_pipeline, selected_numerical_columns),\n",
    "   ('categorical_pipeline', categorical_pipeline, selected_categorical_columns)\n",
    "  ])\n",
    "  return processor\n",
    "\n",
    "def instantiate_model(trial : Trial, numerical_columns : list[str], categorical_columns : list[str]) -> Pipeline:\n",
    "  processor = instantiate_processor(\n",
    "    trial, numerical_columns, categorical_columns\n",
    "  )\n",
    "  learner = instantiate_learner(trial)\n",
    "  \n",
    "  model = Pipeline([\n",
    "    ('processor', processor),\n",
    "    ('learner', learner)\n",
    "  ])\n",
    "  return model"
   ]
  },
  {
   "cell_type": "code",
   "execution_count": 68,
   "metadata": {},
   "outputs": [],
   "source": [
    "from typing import Optional\n",
    "from sklearn.model_selection import cross_val_score, KFold\n",
    "from sklearn.metrics import mean_absolute_percentage_error, make_scorer\n",
    "from pandas import DataFrame, Series\n",
    "import numpy as np\n",
    "\n",
    "def objective(trial : Trial, X : DataFrame, y : np.ndarray | Series, numerical_columns : Optional[list[str]]=None, categorical_columns : Optional[list[str]]=None, random_state : int=42) -> float:\n",
    "  \n",
    "  if numerical_columns is None:\n",
    "    numerical_columns = [\n",
    "      *X.select_dtypes(exclude=['object', 'category']).columns\n",
    "    ]\n",
    "  \n",
    "  if categorical_columns is None:\n",
    "    categorical_columns = [\n",
    "      *X.select_dtypes(include=['object', 'category']).columns\n",
    "    ]\n",
    "  print(categorical_columns, X.columns)\n",
    "  model = instantiate_model(trial, numerical_columns, categorical_columns)\n",
    "  kf = KFold(n_splits=5, shuffle=True, random_state=random_state)\n",
    "  mape_scorer = make_scorer(mean_absolute_percentage_error, greater_is_better=False, needs_proba=False)\n",
    "  scores = cross_val_score(model, X, y, scoring=mape_scorer, cv=kf)\n",
    "  return np.min([np.mean(scores), np.median([scores])])"
   ]
  },
  {
   "cell_type": "code",
   "execution_count": 22,
   "metadata": {},
   "outputs": [
    {
     "data": {
      "text/plain": [
       "['city',\n",
       " 'type',\n",
       " 'ownership',\n",
       " 'hasParkingSpace',\n",
       " 'hasBalcony',\n",
       " 'hasElevator',\n",
       " 'hasSecurity',\n",
       " 'hasStorageRoom']"
      ]
     },
     "execution_count": 22,
     "metadata": {},
     "output_type": "execute_result"
    }
   ],
   "source": [
    "cat_columns = list(X.select_dtypes(\"category\").columns.values)\n",
    "cat_columns"
   ]
  },
  {
   "cell_type": "code",
   "execution_count": 79,
   "metadata": {},
   "outputs": [
    {
     "name": "stderr",
     "output_type": "stream",
     "text": [
      "[I 2024-02-12 12:05:43,882] A new study created in memory with name: optimization\n",
      "[W 2024-02-12 12:05:43,883] Trial 0 failed with parameters: {} because of the following error: TypeError('choose_columns() takes 1 positional argument but 2 were given').\n",
      "Traceback (most recent call last):\n",
      "  File \"/home/piotr/projects/ml-project/.venv/lib/python3.10/site-packages/optuna/study/_optimize.py\", line 200, in _run_trial\n",
      "    value_or_values = func(trial)\n",
      "  File \"/tmp/ipykernel_115255/2676147570.py\", line 5, in <lambda>\n",
      "    study.optimize(lambda trial: objective(trial, X_train, y_train,numerical_columns=num_columns, categorical_columns=cat_columns), n_trials=1)\n",
      "  File \"/tmp/ipykernel_115255/142445651.py\", line 19, in objective\n",
      "    model = instantiate_model(trial, numerical_columns, categorical_columns)\n",
      "  File \"/tmp/ipykernel_115255/1493850561.py\", line 20, in instantiate_model\n",
      "    processor = instantiate_processor(\n",
      "  File \"/tmp/ipykernel_115255/1493850561.py\", line 5, in instantiate_processor\n",
      "    selected_numerical_columns = choose_columns(trial, numerical_columns)\n",
      "TypeError: choose_columns() takes 1 positional argument but 2 were given\n",
      "[W 2024-02-12 12:05:43,884] Trial 0 failed with value None.\n"
     ]
    },
    {
     "name": "stdout",
     "output_type": "stream",
     "text": [
      "['city', 'type', 'ownership', 'hasParkingSpace', 'hasBalcony', 'hasElevator', 'hasSecurity', 'hasStorageRoom'] Index(['city', 'type', 'squareMeters', 'floor', 'floorCount', 'buildYear',\n",
      "       'latitude', 'longitude', 'centreDistance', 'poiCount', 'schoolDistance',\n",
      "       'clinicDistance', 'postOfficeDistance', 'kindergartenDistance',\n",
      "       'restaurantDistance', 'collegeDistance', 'pharmacyDistance',\n",
      "       'ownership', 'hasParkingSpace', 'hasBalcony', 'hasElevator',\n",
      "       'hasSecurity', 'hasStorageRoom'],\n",
      "      dtype='object')\n"
     ]
    },
    {
     "ename": "TypeError",
     "evalue": "choose_columns() takes 1 positional argument but 2 were given",
     "output_type": "error",
     "traceback": [
      "\u001b[0;31m---------------------------------------------------------------------------\u001b[0m",
      "\u001b[0;31mTypeError\u001b[0m                                 Traceback (most recent call last)",
      "Cell \u001b[0;32mIn[79], line 5\u001b[0m\n\u001b[1;32m      1\u001b[0m \u001b[38;5;28;01mfrom\u001b[39;00m \u001b[38;5;21;01moptuna\u001b[39;00m \u001b[38;5;28;01mimport\u001b[39;00m create_study\n\u001b[1;32m      3\u001b[0m study \u001b[38;5;241m=\u001b[39m create_study(study_name\u001b[38;5;241m=\u001b[39m\u001b[38;5;124m'\u001b[39m\u001b[38;5;124moptimization\u001b[39m\u001b[38;5;124m'\u001b[39m, direction\u001b[38;5;241m=\u001b[39m\u001b[38;5;124m'\u001b[39m\u001b[38;5;124mmaximize\u001b[39m\u001b[38;5;124m'\u001b[39m)\n\u001b[0;32m----> 5\u001b[0m \u001b[43mstudy\u001b[49m\u001b[38;5;241;43m.\u001b[39;49m\u001b[43moptimize\u001b[49m\u001b[43m(\u001b[49m\u001b[38;5;28;43;01mlambda\u001b[39;49;00m\u001b[43m \u001b[49m\u001b[43mtrial\u001b[49m\u001b[43m:\u001b[49m\u001b[43m \u001b[49m\u001b[43mobjective\u001b[49m\u001b[43m(\u001b[49m\u001b[43mtrial\u001b[49m\u001b[43m,\u001b[49m\u001b[43m \u001b[49m\u001b[43mX_train\u001b[49m\u001b[43m,\u001b[49m\u001b[43m \u001b[49m\u001b[43my_train\u001b[49m\u001b[43m,\u001b[49m\u001b[43mnumerical_columns\u001b[49m\u001b[38;5;241;43m=\u001b[39;49m\u001b[43mnum_columns\u001b[49m\u001b[43m,\u001b[49m\u001b[43m \u001b[49m\u001b[43mcategorical_columns\u001b[49m\u001b[38;5;241;43m=\u001b[39;49m\u001b[43mcat_columns\u001b[49m\u001b[43m)\u001b[49m\u001b[43m,\u001b[49m\u001b[43m \u001b[49m\u001b[43mn_trials\u001b[49m\u001b[38;5;241;43m=\u001b[39;49m\u001b[38;5;241;43m1\u001b[39;49m\u001b[43m)\u001b[49m\n",
      "File \u001b[0;32m~/projects/ml-project/.venv/lib/python3.10/site-packages/optuna/study/study.py:451\u001b[0m, in \u001b[0;36mStudy.optimize\u001b[0;34m(self, func, n_trials, timeout, n_jobs, catch, callbacks, gc_after_trial, show_progress_bar)\u001b[0m\n\u001b[1;32m    348\u001b[0m \u001b[38;5;28;01mdef\u001b[39;00m \u001b[38;5;21moptimize\u001b[39m(\n\u001b[1;32m    349\u001b[0m     \u001b[38;5;28mself\u001b[39m,\n\u001b[1;32m    350\u001b[0m     func: ObjectiveFuncType,\n\u001b[0;32m   (...)\u001b[0m\n\u001b[1;32m    357\u001b[0m     show_progress_bar: \u001b[38;5;28mbool\u001b[39m \u001b[38;5;241m=\u001b[39m \u001b[38;5;28;01mFalse\u001b[39;00m,\n\u001b[1;32m    358\u001b[0m ) \u001b[38;5;241m-\u001b[39m\u001b[38;5;241m>\u001b[39m \u001b[38;5;28;01mNone\u001b[39;00m:\n\u001b[1;32m    359\u001b[0m \u001b[38;5;250m    \u001b[39m\u001b[38;5;124;03m\"\"\"Optimize an objective function.\u001b[39;00m\n\u001b[1;32m    360\u001b[0m \n\u001b[1;32m    361\u001b[0m \u001b[38;5;124;03m    Optimization is done by choosing a suitable set of hyperparameter values from a given\u001b[39;00m\n\u001b[0;32m   (...)\u001b[0m\n\u001b[1;32m    449\u001b[0m \u001b[38;5;124;03m            If nested invocation of this method occurs.\u001b[39;00m\n\u001b[1;32m    450\u001b[0m \u001b[38;5;124;03m    \"\"\"\u001b[39;00m\n\u001b[0;32m--> 451\u001b[0m     \u001b[43m_optimize\u001b[49m\u001b[43m(\u001b[49m\n\u001b[1;32m    452\u001b[0m \u001b[43m        \u001b[49m\u001b[43mstudy\u001b[49m\u001b[38;5;241;43m=\u001b[39;49m\u001b[38;5;28;43mself\u001b[39;49m\u001b[43m,\u001b[49m\n\u001b[1;32m    453\u001b[0m \u001b[43m        \u001b[49m\u001b[43mfunc\u001b[49m\u001b[38;5;241;43m=\u001b[39;49m\u001b[43mfunc\u001b[49m\u001b[43m,\u001b[49m\n\u001b[1;32m    454\u001b[0m \u001b[43m        \u001b[49m\u001b[43mn_trials\u001b[49m\u001b[38;5;241;43m=\u001b[39;49m\u001b[43mn_trials\u001b[49m\u001b[43m,\u001b[49m\n\u001b[1;32m    455\u001b[0m \u001b[43m        \u001b[49m\u001b[43mtimeout\u001b[49m\u001b[38;5;241;43m=\u001b[39;49m\u001b[43mtimeout\u001b[49m\u001b[43m,\u001b[49m\n\u001b[1;32m    456\u001b[0m \u001b[43m        \u001b[49m\u001b[43mn_jobs\u001b[49m\u001b[38;5;241;43m=\u001b[39;49m\u001b[43mn_jobs\u001b[49m\u001b[43m,\u001b[49m\n\u001b[1;32m    457\u001b[0m \u001b[43m        \u001b[49m\u001b[43mcatch\u001b[49m\u001b[38;5;241;43m=\u001b[39;49m\u001b[38;5;28;43mtuple\u001b[39;49m\u001b[43m(\u001b[49m\u001b[43mcatch\u001b[49m\u001b[43m)\u001b[49m\u001b[43m \u001b[49m\u001b[38;5;28;43;01mif\u001b[39;49;00m\u001b[43m \u001b[49m\u001b[38;5;28;43misinstance\u001b[39;49m\u001b[43m(\u001b[49m\u001b[43mcatch\u001b[49m\u001b[43m,\u001b[49m\u001b[43m \u001b[49m\u001b[43mIterable\u001b[49m\u001b[43m)\u001b[49m\u001b[43m \u001b[49m\u001b[38;5;28;43;01melse\u001b[39;49;00m\u001b[43m \u001b[49m\u001b[43m(\u001b[49m\u001b[43mcatch\u001b[49m\u001b[43m,\u001b[49m\u001b[43m)\u001b[49m\u001b[43m,\u001b[49m\n\u001b[1;32m    458\u001b[0m \u001b[43m        \u001b[49m\u001b[43mcallbacks\u001b[49m\u001b[38;5;241;43m=\u001b[39;49m\u001b[43mcallbacks\u001b[49m\u001b[43m,\u001b[49m\n\u001b[1;32m    459\u001b[0m \u001b[43m        \u001b[49m\u001b[43mgc_after_trial\u001b[49m\u001b[38;5;241;43m=\u001b[39;49m\u001b[43mgc_after_trial\u001b[49m\u001b[43m,\u001b[49m\n\u001b[1;32m    460\u001b[0m \u001b[43m        \u001b[49m\u001b[43mshow_progress_bar\u001b[49m\u001b[38;5;241;43m=\u001b[39;49m\u001b[43mshow_progress_bar\u001b[49m\u001b[43m,\u001b[49m\n\u001b[1;32m    461\u001b[0m \u001b[43m    \u001b[49m\u001b[43m)\u001b[49m\n",
      "File \u001b[0;32m~/projects/ml-project/.venv/lib/python3.10/site-packages/optuna/study/_optimize.py:66\u001b[0m, in \u001b[0;36m_optimize\u001b[0;34m(study, func, n_trials, timeout, n_jobs, catch, callbacks, gc_after_trial, show_progress_bar)\u001b[0m\n\u001b[1;32m     64\u001b[0m \u001b[38;5;28;01mtry\u001b[39;00m:\n\u001b[1;32m     65\u001b[0m     \u001b[38;5;28;01mif\u001b[39;00m n_jobs \u001b[38;5;241m==\u001b[39m \u001b[38;5;241m1\u001b[39m:\n\u001b[0;32m---> 66\u001b[0m         \u001b[43m_optimize_sequential\u001b[49m\u001b[43m(\u001b[49m\n\u001b[1;32m     67\u001b[0m \u001b[43m            \u001b[49m\u001b[43mstudy\u001b[49m\u001b[43m,\u001b[49m\n\u001b[1;32m     68\u001b[0m \u001b[43m            \u001b[49m\u001b[43mfunc\u001b[49m\u001b[43m,\u001b[49m\n\u001b[1;32m     69\u001b[0m \u001b[43m            \u001b[49m\u001b[43mn_trials\u001b[49m\u001b[43m,\u001b[49m\n\u001b[1;32m     70\u001b[0m \u001b[43m            \u001b[49m\u001b[43mtimeout\u001b[49m\u001b[43m,\u001b[49m\n\u001b[1;32m     71\u001b[0m \u001b[43m            \u001b[49m\u001b[43mcatch\u001b[49m\u001b[43m,\u001b[49m\n\u001b[1;32m     72\u001b[0m \u001b[43m            \u001b[49m\u001b[43mcallbacks\u001b[49m\u001b[43m,\u001b[49m\n\u001b[1;32m     73\u001b[0m \u001b[43m            \u001b[49m\u001b[43mgc_after_trial\u001b[49m\u001b[43m,\u001b[49m\n\u001b[1;32m     74\u001b[0m \u001b[43m            \u001b[49m\u001b[43mreseed_sampler_rng\u001b[49m\u001b[38;5;241;43m=\u001b[39;49m\u001b[38;5;28;43;01mFalse\u001b[39;49;00m\u001b[43m,\u001b[49m\n\u001b[1;32m     75\u001b[0m \u001b[43m            \u001b[49m\u001b[43mtime_start\u001b[49m\u001b[38;5;241;43m=\u001b[39;49m\u001b[38;5;28;43;01mNone\u001b[39;49;00m\u001b[43m,\u001b[49m\n\u001b[1;32m     76\u001b[0m \u001b[43m            \u001b[49m\u001b[43mprogress_bar\u001b[49m\u001b[38;5;241;43m=\u001b[39;49m\u001b[43mprogress_bar\u001b[49m\u001b[43m,\u001b[49m\n\u001b[1;32m     77\u001b[0m \u001b[43m        \u001b[49m\u001b[43m)\u001b[49m\n\u001b[1;32m     78\u001b[0m     \u001b[38;5;28;01melse\u001b[39;00m:\n\u001b[1;32m     79\u001b[0m         \u001b[38;5;28;01mif\u001b[39;00m n_jobs \u001b[38;5;241m==\u001b[39m \u001b[38;5;241m-\u001b[39m\u001b[38;5;241m1\u001b[39m:\n",
      "File \u001b[0;32m~/projects/ml-project/.venv/lib/python3.10/site-packages/optuna/study/_optimize.py:163\u001b[0m, in \u001b[0;36m_optimize_sequential\u001b[0;34m(study, func, n_trials, timeout, catch, callbacks, gc_after_trial, reseed_sampler_rng, time_start, progress_bar)\u001b[0m\n\u001b[1;32m    160\u001b[0m         \u001b[38;5;28;01mbreak\u001b[39;00m\n\u001b[1;32m    162\u001b[0m \u001b[38;5;28;01mtry\u001b[39;00m:\n\u001b[0;32m--> 163\u001b[0m     frozen_trial \u001b[38;5;241m=\u001b[39m \u001b[43m_run_trial\u001b[49m\u001b[43m(\u001b[49m\u001b[43mstudy\u001b[49m\u001b[43m,\u001b[49m\u001b[43m \u001b[49m\u001b[43mfunc\u001b[49m\u001b[43m,\u001b[49m\u001b[43m \u001b[49m\u001b[43mcatch\u001b[49m\u001b[43m)\u001b[49m\n\u001b[1;32m    164\u001b[0m \u001b[38;5;28;01mfinally\u001b[39;00m:\n\u001b[1;32m    165\u001b[0m     \u001b[38;5;66;03m# The following line mitigates memory problems that can be occurred in some\u001b[39;00m\n\u001b[1;32m    166\u001b[0m     \u001b[38;5;66;03m# environments (e.g., services that use computing containers such as GitHub Actions).\u001b[39;00m\n\u001b[1;32m    167\u001b[0m     \u001b[38;5;66;03m# Please refer to the following PR for further details:\u001b[39;00m\n\u001b[1;32m    168\u001b[0m     \u001b[38;5;66;03m# https://github.com/optuna/optuna/pull/325.\u001b[39;00m\n\u001b[1;32m    169\u001b[0m     \u001b[38;5;28;01mif\u001b[39;00m gc_after_trial:\n",
      "File \u001b[0;32m~/projects/ml-project/.venv/lib/python3.10/site-packages/optuna/study/_optimize.py:251\u001b[0m, in \u001b[0;36m_run_trial\u001b[0;34m(study, func, catch)\u001b[0m\n\u001b[1;32m    244\u001b[0m         \u001b[38;5;28;01massert\u001b[39;00m \u001b[38;5;28;01mFalse\u001b[39;00m, \u001b[38;5;124m\"\u001b[39m\u001b[38;5;124mShould not reach.\u001b[39m\u001b[38;5;124m\"\u001b[39m\n\u001b[1;32m    246\u001b[0m \u001b[38;5;28;01mif\u001b[39;00m (\n\u001b[1;32m    247\u001b[0m     frozen_trial\u001b[38;5;241m.\u001b[39mstate \u001b[38;5;241m==\u001b[39m TrialState\u001b[38;5;241m.\u001b[39mFAIL\n\u001b[1;32m    248\u001b[0m     \u001b[38;5;129;01mand\u001b[39;00m func_err \u001b[38;5;129;01mis\u001b[39;00m \u001b[38;5;129;01mnot\u001b[39;00m \u001b[38;5;28;01mNone\u001b[39;00m\n\u001b[1;32m    249\u001b[0m     \u001b[38;5;129;01mand\u001b[39;00m \u001b[38;5;129;01mnot\u001b[39;00m \u001b[38;5;28misinstance\u001b[39m(func_err, catch)\n\u001b[1;32m    250\u001b[0m ):\n\u001b[0;32m--> 251\u001b[0m     \u001b[38;5;28;01mraise\u001b[39;00m func_err\n\u001b[1;32m    252\u001b[0m \u001b[38;5;28;01mreturn\u001b[39;00m frozen_trial\n",
      "File \u001b[0;32m~/projects/ml-project/.venv/lib/python3.10/site-packages/optuna/study/_optimize.py:200\u001b[0m, in \u001b[0;36m_run_trial\u001b[0;34m(study, func, catch)\u001b[0m\n\u001b[1;32m    198\u001b[0m \u001b[38;5;28;01mwith\u001b[39;00m get_heartbeat_thread(trial\u001b[38;5;241m.\u001b[39m_trial_id, study\u001b[38;5;241m.\u001b[39m_storage):\n\u001b[1;32m    199\u001b[0m     \u001b[38;5;28;01mtry\u001b[39;00m:\n\u001b[0;32m--> 200\u001b[0m         value_or_values \u001b[38;5;241m=\u001b[39m \u001b[43mfunc\u001b[49m\u001b[43m(\u001b[49m\u001b[43mtrial\u001b[49m\u001b[43m)\u001b[49m\n\u001b[1;32m    201\u001b[0m     \u001b[38;5;28;01mexcept\u001b[39;00m exceptions\u001b[38;5;241m.\u001b[39mTrialPruned \u001b[38;5;28;01mas\u001b[39;00m e:\n\u001b[1;32m    202\u001b[0m         \u001b[38;5;66;03m# TODO(mamu): Handle multi-objective cases.\u001b[39;00m\n\u001b[1;32m    203\u001b[0m         state \u001b[38;5;241m=\u001b[39m TrialState\u001b[38;5;241m.\u001b[39mPRUNED\n",
      "Cell \u001b[0;32mIn[79], line 5\u001b[0m, in \u001b[0;36m<lambda>\u001b[0;34m(trial)\u001b[0m\n\u001b[1;32m      1\u001b[0m \u001b[38;5;28;01mfrom\u001b[39;00m \u001b[38;5;21;01moptuna\u001b[39;00m \u001b[38;5;28;01mimport\u001b[39;00m create_study\n\u001b[1;32m      3\u001b[0m study \u001b[38;5;241m=\u001b[39m create_study(study_name\u001b[38;5;241m=\u001b[39m\u001b[38;5;124m'\u001b[39m\u001b[38;5;124moptimization\u001b[39m\u001b[38;5;124m'\u001b[39m, direction\u001b[38;5;241m=\u001b[39m\u001b[38;5;124m'\u001b[39m\u001b[38;5;124mmaximize\u001b[39m\u001b[38;5;124m'\u001b[39m)\n\u001b[0;32m----> 5\u001b[0m study\u001b[38;5;241m.\u001b[39moptimize(\u001b[38;5;28;01mlambda\u001b[39;00m trial: \u001b[43mobjective\u001b[49m\u001b[43m(\u001b[49m\u001b[43mtrial\u001b[49m\u001b[43m,\u001b[49m\u001b[43m \u001b[49m\u001b[43mX_train\u001b[49m\u001b[43m,\u001b[49m\u001b[43m \u001b[49m\u001b[43my_train\u001b[49m\u001b[43m,\u001b[49m\u001b[43mnumerical_columns\u001b[49m\u001b[38;5;241;43m=\u001b[39;49m\u001b[43mnum_columns\u001b[49m\u001b[43m,\u001b[49m\u001b[43m \u001b[49m\u001b[43mcategorical_columns\u001b[49m\u001b[38;5;241;43m=\u001b[39;49m\u001b[43mcat_columns\u001b[49m\u001b[43m)\u001b[49m, n_trials\u001b[38;5;241m=\u001b[39m\u001b[38;5;241m1\u001b[39m)\n",
      "Cell \u001b[0;32mIn[68], line 19\u001b[0m, in \u001b[0;36mobjective\u001b[0;34m(trial, X, y, numerical_columns, categorical_columns, random_state)\u001b[0m\n\u001b[1;32m     15\u001b[0m   categorical_columns \u001b[38;5;241m=\u001b[39m [\n\u001b[1;32m     16\u001b[0m     \u001b[38;5;241m*\u001b[39mX\u001b[38;5;241m.\u001b[39mselect_dtypes(include\u001b[38;5;241m=\u001b[39m[\u001b[38;5;124m'\u001b[39m\u001b[38;5;124mobject\u001b[39m\u001b[38;5;124m'\u001b[39m, \u001b[38;5;124m'\u001b[39m\u001b[38;5;124mcategory\u001b[39m\u001b[38;5;124m'\u001b[39m])\u001b[38;5;241m.\u001b[39mcolumns\n\u001b[1;32m     17\u001b[0m   ]\n\u001b[1;32m     18\u001b[0m \u001b[38;5;28mprint\u001b[39m(categorical_columns, X\u001b[38;5;241m.\u001b[39mcolumns)\n\u001b[0;32m---> 19\u001b[0m model \u001b[38;5;241m=\u001b[39m \u001b[43minstantiate_model\u001b[49m\u001b[43m(\u001b[49m\u001b[43mtrial\u001b[49m\u001b[43m,\u001b[49m\u001b[43m \u001b[49m\u001b[43mnumerical_columns\u001b[49m\u001b[43m,\u001b[49m\u001b[43m \u001b[49m\u001b[43mcategorical_columns\u001b[49m\u001b[43m)\u001b[49m\n\u001b[1;32m     20\u001b[0m kf \u001b[38;5;241m=\u001b[39m KFold(n_splits\u001b[38;5;241m=\u001b[39m\u001b[38;5;241m5\u001b[39m, shuffle\u001b[38;5;241m=\u001b[39m\u001b[38;5;28;01mTrue\u001b[39;00m, random_state\u001b[38;5;241m=\u001b[39mrandom_state)\n\u001b[1;32m     21\u001b[0m mape_scorer \u001b[38;5;241m=\u001b[39m make_scorer(mean_absolute_percentage_error, greater_is_better\u001b[38;5;241m=\u001b[39m\u001b[38;5;28;01mFalse\u001b[39;00m, needs_proba\u001b[38;5;241m=\u001b[39m\u001b[38;5;28;01mFalse\u001b[39;00m)\n",
      "Cell \u001b[0;32mIn[78], line 20\u001b[0m, in \u001b[0;36minstantiate_model\u001b[0;34m(trial, numerical_columns, categorical_columns)\u001b[0m\n\u001b[1;32m     19\u001b[0m \u001b[38;5;28;01mdef\u001b[39;00m \u001b[38;5;21minstantiate_model\u001b[39m(trial : Trial, numerical_columns : \u001b[38;5;28mlist\u001b[39m[\u001b[38;5;28mstr\u001b[39m], categorical_columns : \u001b[38;5;28mlist\u001b[39m[\u001b[38;5;28mstr\u001b[39m]) \u001b[38;5;241m-\u001b[39m\u001b[38;5;241m>\u001b[39m Pipeline:\n\u001b[0;32m---> 20\u001b[0m   processor \u001b[38;5;241m=\u001b[39m \u001b[43minstantiate_processor\u001b[49m\u001b[43m(\u001b[49m\n\u001b[1;32m     21\u001b[0m \u001b[43m    \u001b[49m\u001b[43mtrial\u001b[49m\u001b[43m,\u001b[49m\u001b[43m \u001b[49m\u001b[43mnumerical_columns\u001b[49m\u001b[43m,\u001b[49m\u001b[43m \u001b[49m\u001b[43mcategorical_columns\u001b[49m\n\u001b[1;32m     22\u001b[0m \u001b[43m  \u001b[49m\u001b[43m)\u001b[49m\n\u001b[1;32m     23\u001b[0m   learner \u001b[38;5;241m=\u001b[39m instantiate_learner(trial)\n\u001b[1;32m     25\u001b[0m   model \u001b[38;5;241m=\u001b[39m Pipeline([\n\u001b[1;32m     26\u001b[0m     (\u001b[38;5;124m'\u001b[39m\u001b[38;5;124mprocessor\u001b[39m\u001b[38;5;124m'\u001b[39m, processor),\n\u001b[1;32m     27\u001b[0m     (\u001b[38;5;124m'\u001b[39m\u001b[38;5;124mlearner\u001b[39m\u001b[38;5;124m'\u001b[39m, learner)\n\u001b[1;32m     28\u001b[0m   ])\n",
      "Cell \u001b[0;32mIn[78], line 5\u001b[0m, in \u001b[0;36minstantiate_processor\u001b[0;34m(trial, numerical_columns, categorical_columns)\u001b[0m\n\u001b[1;32m      3\u001b[0m \u001b[38;5;28;01mdef\u001b[39;00m \u001b[38;5;21minstantiate_processor\u001b[39m(trial : Trial, numerical_columns : \u001b[38;5;28mlist\u001b[39m[\u001b[38;5;28mstr\u001b[39m], categorical_columns : \u001b[38;5;28mlist\u001b[39m[\u001b[38;5;28mstr\u001b[39m]) \u001b[38;5;241m-\u001b[39m\u001b[38;5;241m>\u001b[39m ColumnTransformer:\n\u001b[0;32m----> 5\u001b[0m   selected_numerical_columns \u001b[38;5;241m=\u001b[39m \u001b[43mchoose_columns\u001b[49m\u001b[43m(\u001b[49m\u001b[43mtrial\u001b[49m\u001b[43m,\u001b[49m\u001b[43m \u001b[49m\u001b[43mnumerical_columns\u001b[49m\u001b[43m)\u001b[49m\n\u001b[1;32m      6\u001b[0m   selected_categorical_columns \u001b[38;5;241m=\u001b[39m choose_columns(trial, categorical_columns)\n\u001b[1;32m      8\u001b[0m   numerical_pipeline \u001b[38;5;241m=\u001b[39m instantiate_numerical_pipeline(trial, selected_numerical_columns)\n",
      "\u001b[0;31mTypeError\u001b[0m: choose_columns() takes 1 positional argument but 2 were given"
     ]
    }
   ],
   "source": [
    "from optuna import create_study\n",
    "\n",
    "study = create_study(study_name='optimization', direction='maximize')\n",
    "\n",
    "study.optimize(lambda trial: objective(trial, X_train, y_train,numerical_columns=num_columns, categorical_columns=cat_columns), n_trials=1)"
   ]
  },
  {
   "cell_type": "code",
   "execution_count": 106,
   "metadata": {},
   "outputs": [
    {
     "data": {
      "text/plain": [
       "-0.12302513820548737"
      ]
     },
     "execution_count": 106,
     "metadata": {},
     "output_type": "execute_result"
    }
   ],
   "source": [
    "study."
   ]
  },
  {
   "cell_type": "code",
   "execution_count": 85,
   "metadata": {},
   "outputs": [],
   "source": [
    "freq = {'a':9,'b':3,\"c\":12,\"d\":1}\n",
    "freq_s = list(freq.keys())"
   ]
  },
  {
   "cell_type": "code",
   "execution_count": 86,
   "metadata": {},
   "outputs": [],
   "source": [
    "freq_s.sort(key = freq.get)"
   ]
  },
  {
   "cell_type": "code",
   "execution_count": 87,
   "metadata": {},
   "outputs": [
    {
     "data": {
      "text/plain": [
       "['d', 'b', 'a', 'c']"
      ]
     },
     "execution_count": 87,
     "metadata": {},
     "output_type": "execute_result"
    }
   ],
   "source": [
    "freq_s"
   ]
  }
 ],
 "metadata": {
  "kernelspec": {
   "display_name": ".venv",
   "language": "python",
   "name": "python3"
  },
  "language_info": {
   "codemirror_mode": {
    "name": "ipython",
    "version": 3
   },
   "file_extension": ".py",
   "mimetype": "text/x-python",
   "name": "python",
   "nbconvert_exporter": "python",
   "pygments_lexer": "ipython3",
   "version": "3.10.12"
  }
 },
 "nbformat": 4,
 "nbformat_minor": 2
}
