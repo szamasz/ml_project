{
 "cells": [
  {
   "cell_type": "code",
   "execution_count": 1,
   "metadata": {},
   "outputs": [
    {
     "name": "stderr",
     "output_type": "stream",
     "text": [
      "/home/piotr/projects/ml-project/.venv/lib/python3.10/site-packages/tqdm/auto.py:21: TqdmWarning: IProgress not found. Please update jupyter and ipywidgets. See https://ipywidgets.readthedocs.io/en/stable/user_install.html\n",
      "  from .autonotebook import tqdm as notebook_tqdm\n"
     ]
    }
   ],
   "source": [
    "from optuna import visualization\n",
    "from optuna import Trial\n",
    "import pandas as pd\n",
    "from lib.utils import load_config\n",
    "from lib.PCA_Transformer import PCA_Transform\n",
    "from sklearn.impute import KNNImputer\n",
    "from sklearn.model_selection import train_test_split\n",
    "from optuna import logging"
   ]
  },
  {
   "cell_type": "code",
   "execution_count": 2,
   "metadata": {},
   "outputs": [],
   "source": [
    "from sklearn import set_config\n",
    "set_config(transform_output=\"default\")"
   ]
  },
  {
   "cell_type": "code",
   "execution_count": 3,
   "metadata": {},
   "outputs": [],
   "source": [
    "config = load_config()\n",
    "df = pd.read_csv('processed/apartments.csv', index_col = 0)\n",
    "target = config['sources']['apartments']['target']\n",
    "pca_columns = config['sources']['apartments']['pca']['columns']\n",
    "drop_columns = ['rooms']\n",
    "to_drop = drop_columns + [target] #pca_columns + \n",
    "X = df.drop(to_drop, axis =1)\n",
    "#X_ohe = pd.get_dummies(X)\n",
    "y = df[target]\n",
    "cat_cols = ['city']\n",
    "num_cols = ['squareMeters','centreDistance','buildYear','latitude','longitude']"
   ]
  },
  {
   "cell_type": "code",
   "execution_count": 4,
   "metadata": {},
   "outputs": [],
   "source": [
    "cols_pca = ['schoolDistance', 'clinicDistance', 'postOfficeDistance', 'kindergartenDistance','restaurantDistance','collegeDistance','pharmacyDistance']"
   ]
  },
  {
   "cell_type": "code",
   "execution_count": 5,
   "metadata": {},
   "outputs": [
    {
     "data": {
      "text/html": [
       "<div>\n",
       "<style scoped>\n",
       "    .dataframe tbody tr th:only-of-type {\n",
       "        vertical-align: middle;\n",
       "    }\n",
       "\n",
       "    .dataframe tbody tr th {\n",
       "        vertical-align: top;\n",
       "    }\n",
       "\n",
       "    .dataframe thead th {\n",
       "        text-align: right;\n",
       "    }\n",
       "</style>\n",
       "<table border=\"1\" class=\"dataframe\">\n",
       "  <thead>\n",
       "    <tr style=\"text-align: right;\">\n",
       "      <th></th>\n",
       "      <th>city</th>\n",
       "      <th>type</th>\n",
       "      <th>squareMeters</th>\n",
       "      <th>floor</th>\n",
       "      <th>floorCount</th>\n",
       "      <th>buildYear</th>\n",
       "      <th>latitude</th>\n",
       "      <th>longitude</th>\n",
       "      <th>centreDistance</th>\n",
       "      <th>poiCount</th>\n",
       "      <th>...</th>\n",
       "      <th>kindergartenDistance</th>\n",
       "      <th>restaurantDistance</th>\n",
       "      <th>collegeDistance</th>\n",
       "      <th>pharmacyDistance</th>\n",
       "      <th>ownership</th>\n",
       "      <th>hasParkingSpace</th>\n",
       "      <th>hasBalcony</th>\n",
       "      <th>hasElevator</th>\n",
       "      <th>hasSecurity</th>\n",
       "      <th>hasStorageRoom</th>\n",
       "    </tr>\n",
       "  </thead>\n",
       "  <tbody>\n",
       "    <tr>\n",
       "      <th>0</th>\n",
       "      <td>szczecin</td>\n",
       "      <td>blockOfFlats</td>\n",
       "      <td>63.00</td>\n",
       "      <td>4.0</td>\n",
       "      <td>10.0</td>\n",
       "      <td>1980.0</td>\n",
       "      <td>53.378933</td>\n",
       "      <td>14.625296</td>\n",
       "      <td>6.53</td>\n",
       "      <td>9.0</td>\n",
       "      <td>...</td>\n",
       "      <td>0.105</td>\n",
       "      <td>1.652</td>\n",
       "      <td>NaN</td>\n",
       "      <td>0.413</td>\n",
       "      <td>condominium</td>\n",
       "      <td>yes</td>\n",
       "      <td>yes</td>\n",
       "      <td>yes</td>\n",
       "      <td>no</td>\n",
       "      <td>yes</td>\n",
       "    </tr>\n",
       "    <tr>\n",
       "      <th>1</th>\n",
       "      <td>szczecin</td>\n",
       "      <td>blockOfFlats</td>\n",
       "      <td>36.00</td>\n",
       "      <td>8.0</td>\n",
       "      <td>10.0</td>\n",
       "      <td>NaN</td>\n",
       "      <td>53.442692</td>\n",
       "      <td>14.559690</td>\n",
       "      <td>2.15</td>\n",
       "      <td>16.0</td>\n",
       "      <td>...</td>\n",
       "      <td>0.291</td>\n",
       "      <td>0.348</td>\n",
       "      <td>1.404</td>\n",
       "      <td>0.205</td>\n",
       "      <td>cooperative</td>\n",
       "      <td>no</td>\n",
       "      <td>yes</td>\n",
       "      <td>yes</td>\n",
       "      <td>no</td>\n",
       "      <td>yes</td>\n",
       "    </tr>\n",
       "    <tr>\n",
       "      <th>2</th>\n",
       "      <td>szczecin</td>\n",
       "      <td>tenement</td>\n",
       "      <td>73.02</td>\n",
       "      <td>2.0</td>\n",
       "      <td>3.0</td>\n",
       "      <td>NaN</td>\n",
       "      <td>53.452222</td>\n",
       "      <td>14.553333</td>\n",
       "      <td>3.24</td>\n",
       "      <td>9.0</td>\n",
       "      <td>...</td>\n",
       "      <td>0.246</td>\n",
       "      <td>0.300</td>\n",
       "      <td>1.857</td>\n",
       "      <td>0.280</td>\n",
       "      <td>condominium</td>\n",
       "      <td>no</td>\n",
       "      <td>no</td>\n",
       "      <td>no</td>\n",
       "      <td>no</td>\n",
       "      <td>no</td>\n",
       "    </tr>\n",
       "    <tr>\n",
       "      <th>3</th>\n",
       "      <td>szczecin</td>\n",
       "      <td>tenement</td>\n",
       "      <td>87.60</td>\n",
       "      <td>2.0</td>\n",
       "      <td>3.0</td>\n",
       "      <td>NaN</td>\n",
       "      <td>53.435100</td>\n",
       "      <td>14.532900</td>\n",
       "      <td>2.27</td>\n",
       "      <td>32.0</td>\n",
       "      <td>...</td>\n",
       "      <td>0.359</td>\n",
       "      <td>0.101</td>\n",
       "      <td>0.310</td>\n",
       "      <td>0.087</td>\n",
       "      <td>condominium</td>\n",
       "      <td>yes</td>\n",
       "      <td>yes</td>\n",
       "      <td>no</td>\n",
       "      <td>no</td>\n",
       "      <td>yes</td>\n",
       "    </tr>\n",
       "    <tr>\n",
       "      <th>4</th>\n",
       "      <td>szczecin</td>\n",
       "      <td>blockOfFlats</td>\n",
       "      <td>66.00</td>\n",
       "      <td>1.0</td>\n",
       "      <td>3.0</td>\n",
       "      <td>NaN</td>\n",
       "      <td>53.410278</td>\n",
       "      <td>14.503611</td>\n",
       "      <td>4.07</td>\n",
       "      <td>1.0</td>\n",
       "      <td>...</td>\n",
       "      <td>0.704</td>\n",
       "      <td>0.501</td>\n",
       "      <td>2.138</td>\n",
       "      <td>0.514</td>\n",
       "      <td>condominium</td>\n",
       "      <td>no</td>\n",
       "      <td>no</td>\n",
       "      <td>no</td>\n",
       "      <td>no</td>\n",
       "      <td>no</td>\n",
       "    </tr>\n",
       "  </tbody>\n",
       "</table>\n",
       "<p>5 rows × 23 columns</p>\n",
       "</div>"
      ],
      "text/plain": [
       "       city          type  squareMeters  floor  floorCount  buildYear  \\\n",
       "0  szczecin  blockOfFlats         63.00    4.0        10.0     1980.0   \n",
       "1  szczecin  blockOfFlats         36.00    8.0        10.0        NaN   \n",
       "2  szczecin      tenement         73.02    2.0         3.0        NaN   \n",
       "3  szczecin      tenement         87.60    2.0         3.0        NaN   \n",
       "4  szczecin  blockOfFlats         66.00    1.0         3.0        NaN   \n",
       "\n",
       "    latitude  longitude  centreDistance  poiCount  ...  kindergartenDistance  \\\n",
       "0  53.378933  14.625296            6.53       9.0  ...                 0.105   \n",
       "1  53.442692  14.559690            2.15      16.0  ...                 0.291   \n",
       "2  53.452222  14.553333            3.24       9.0  ...                 0.246   \n",
       "3  53.435100  14.532900            2.27      32.0  ...                 0.359   \n",
       "4  53.410278  14.503611            4.07       1.0  ...                 0.704   \n",
       "\n",
       "   restaurantDistance  collegeDistance  pharmacyDistance    ownership  \\\n",
       "0               1.652              NaN             0.413  condominium   \n",
       "1               0.348            1.404             0.205  cooperative   \n",
       "2               0.300            1.857             0.280  condominium   \n",
       "3               0.101            0.310             0.087  condominium   \n",
       "4               0.501            2.138             0.514  condominium   \n",
       "\n",
       "   hasParkingSpace  hasBalcony hasElevator hasSecurity hasStorageRoom  \n",
       "0              yes         yes         yes          no            yes  \n",
       "1               no         yes         yes          no            yes  \n",
       "2               no          no          no          no             no  \n",
       "3              yes         yes          no          no            yes  \n",
       "4               no          no          no          no             no  \n",
       "\n",
       "[5 rows x 23 columns]"
      ]
     },
     "execution_count": 5,
     "metadata": {},
     "output_type": "execute_result"
    }
   ],
   "source": [
    "X.head()"
   ]
  },
  {
   "cell_type": "code",
   "execution_count": 6,
   "metadata": {},
   "outputs": [
    {
     "data": {
      "text/plain": [
       "floor                   18.185665\n",
       "buildYear               17.302301\n",
       "collegeDistance          2.988627\n",
       "floorCount               1.385877\n",
       "clinicDistance           0.465485\n",
       "restaurantDistance       0.306797\n",
       "pharmacyDistance         0.142819\n",
       "postOfficeDistance       0.132240\n",
       "schoolDistance           0.074054\n",
       "kindergartenDistance     0.068765\n",
       "hasStorageRoom           0.000000\n",
       "hasSecurity              0.000000\n",
       "hasElevator              0.000000\n",
       "hasBalcony               0.000000\n",
       "hasParkingSpace          0.000000\n",
       "ownership                0.000000\n",
       "city                     0.000000\n",
       "type                     0.000000\n",
       "poiCount                 0.000000\n",
       "centreDistance           0.000000\n",
       "longitude                0.000000\n",
       "latitude                 0.000000\n",
       "rooms                    0.000000\n",
       "squareMeters             0.000000\n",
       "price                    0.000000\n",
       "dtype: float64"
      ]
     },
     "execution_count": 6,
     "metadata": {},
     "output_type": "execute_result"
    }
   ],
   "source": [
    "df.isna().sum().sort_values(ascending=False)/len(df) * 100"
   ]
  },
  {
   "cell_type": "code",
   "execution_count": 7,
   "metadata": {},
   "outputs": [
    {
     "name": "stdout",
     "output_type": "stream",
     "text": [
      "<class 'pandas.core.frame.DataFrame'>\n",
      "Index: 18905 entries, 0 to 18904\n",
      "Data columns (total 25 columns):\n",
      " #   Column                Non-Null Count  Dtype  \n",
      "---  ------                --------------  -----  \n",
      " 0   city                  18905 non-null  object \n",
      " 1   type                  18905 non-null  object \n",
      " 2   squareMeters          18905 non-null  float64\n",
      " 3   rooms                 18905 non-null  float64\n",
      " 4   floor                 15467 non-null  float64\n",
      " 5   floorCount            18643 non-null  float64\n",
      " 6   buildYear             15634 non-null  float64\n",
      " 7   latitude              18905 non-null  float64\n",
      " 8   longitude             18905 non-null  float64\n",
      " 9   centreDistance        18905 non-null  float64\n",
      " 10  poiCount              18905 non-null  float64\n",
      " 11  schoolDistance        18891 non-null  float64\n",
      " 12  clinicDistance        18817 non-null  float64\n",
      " 13  postOfficeDistance    18880 non-null  float64\n",
      " 14  kindergartenDistance  18892 non-null  float64\n",
      " 15  restaurantDistance    18847 non-null  float64\n",
      " 16  collegeDistance       18340 non-null  float64\n",
      " 17  pharmacyDistance      18878 non-null  float64\n",
      " 18  ownership             18905 non-null  object \n",
      " 19  hasParkingSpace       18905 non-null  object \n",
      " 20  hasBalcony            18905 non-null  object \n",
      " 21  hasElevator           18905 non-null  object \n",
      " 22  hasSecurity           18905 non-null  object \n",
      " 23  hasStorageRoom        18905 non-null  object \n",
      " 24  price                 18905 non-null  int64  \n",
      "dtypes: float64(16), int64(1), object(8)\n",
      "memory usage: 3.8+ MB\n"
     ]
    }
   ],
   "source": [
    "df.info()"
   ]
  },
  {
   "cell_type": "code",
   "execution_count": 8,
   "metadata": {},
   "outputs": [],
   "source": [
    "num_columns = list(X.select_dtypes(\"number\").columns.values)\n",
    "obj_columns = list(X.select_dtypes(\"object\").columns.values)"
   ]
  },
  {
   "cell_type": "code",
   "execution_count": 9,
   "metadata": {},
   "outputs": [
    {
     "data": {
      "text/plain": [
       "['squareMeters',\n",
       " 'floor',\n",
       " 'floorCount',\n",
       " 'buildYear',\n",
       " 'latitude',\n",
       " 'longitude',\n",
       " 'centreDistance',\n",
       " 'poiCount',\n",
       " 'schoolDistance',\n",
       " 'clinicDistance',\n",
       " 'postOfficeDistance',\n",
       " 'kindergartenDistance',\n",
       " 'restaurantDistance',\n",
       " 'collegeDistance',\n",
       " 'pharmacyDistance']"
      ]
     },
     "execution_count": 9,
     "metadata": {},
     "output_type": "execute_result"
    }
   ],
   "source": [
    "num_columns"
   ]
  },
  {
   "cell_type": "code",
   "execution_count": 10,
   "metadata": {},
   "outputs": [
    {
     "data": {
      "text/plain": [
       "(15, 8, 25)"
      ]
     },
     "execution_count": 10,
     "metadata": {},
     "output_type": "execute_result"
    }
   ],
   "source": [
    "len(num_columns),len(obj_columns), len(df.columns)"
   ]
  },
  {
   "cell_type": "code",
   "execution_count": 11,
   "metadata": {},
   "outputs": [
    {
     "name": "stdout",
     "output_type": "stream",
     "text": [
      "<class 'pandas.core.frame.DataFrame'>\n",
      "Index: 18905 entries, 0 to 18904\n",
      "Data columns (total 23 columns):\n",
      " #   Column                Non-Null Count  Dtype   \n",
      "---  ------                --------------  -----   \n",
      " 0   city                  18905 non-null  category\n",
      " 1   type                  18905 non-null  category\n",
      " 2   squareMeters          18905 non-null  float64 \n",
      " 3   floor                 15467 non-null  float64 \n",
      " 4   floorCount            18643 non-null  float64 \n",
      " 5   buildYear             15634 non-null  float64 \n",
      " 6   latitude              18905 non-null  float64 \n",
      " 7   longitude             18905 non-null  float64 \n",
      " 8   centreDistance        18905 non-null  float64 \n",
      " 9   poiCount              18905 non-null  float64 \n",
      " 10  schoolDistance        18891 non-null  float64 \n",
      " 11  clinicDistance        18817 non-null  float64 \n",
      " 12  postOfficeDistance    18880 non-null  float64 \n",
      " 13  kindergartenDistance  18892 non-null  float64 \n",
      " 14  restaurantDistance    18847 non-null  float64 \n",
      " 15  collegeDistance       18340 non-null  float64 \n",
      " 16  pharmacyDistance      18878 non-null  float64 \n",
      " 17  ownership             18905 non-null  category\n",
      " 18  hasParkingSpace       18905 non-null  category\n",
      " 19  hasBalcony            18905 non-null  category\n",
      " 20  hasElevator           18905 non-null  category\n",
      " 21  hasSecurity           18905 non-null  category\n",
      " 22  hasStorageRoom        18905 non-null  category\n",
      "dtypes: category(8), float64(15)\n",
      "memory usage: 2.5 MB\n"
     ]
    }
   ],
   "source": [
    "X[X.select_dtypes(\"object\").columns.to_list()]  = X[X.select_dtypes(\"object\").columns.to_list()].astype('category')\n",
    "X.info()"
   ]
  },
  {
   "cell_type": "code",
   "execution_count": 12,
   "metadata": {},
   "outputs": [],
   "source": [
    "cat_columns = X.select_dtypes(\"category\").columns.to_list()"
   ]
  },
  {
   "cell_type": "code",
   "execution_count": 153,
   "metadata": {},
   "outputs": [],
   "source": [
    "X_train, X_val, y_train, y_val = train_test_split(X,y,test_size=0.2, random_state=13)"
   ]
  },
  {
   "cell_type": "code",
   "execution_count": 14,
   "metadata": {},
   "outputs": [],
   "source": [
    "from lib.optuna.columns import *\n",
    "from lib.optuna.encoders import *\n",
    "from lib.optuna.algos import *\n",
    "from lib.optuna.scalers import *\n",
    "from lib.optuna.imputers import *"
   ]
  },
  {
   "cell_type": "code",
   "execution_count": 15,
   "metadata": {},
   "outputs": [],
   "source": [
    "import lib.optuna.encoders as encoders"
   ]
  },
  {
   "cell_type": "code",
   "execution_count": 16,
   "metadata": {},
   "outputs": [],
   "source": [
    "import lib.PCA_Transformer as pct"
   ]
  },
  {
   "cell_type": "code",
   "execution_count": 17,
   "metadata": {},
   "outputs": [
    {
     "data": {
      "text/plain": [
       "<module 'lib.PCA_Transformer' from '/home/piotr/projects/ml-project/lib/PCA_Transformer.py'>"
      ]
     },
     "execution_count": 17,
     "metadata": {},
     "output_type": "execute_result"
    }
   ],
   "source": [
    "import importlib\n",
    "importlib.reload(pct)"
   ]
  },
  {
   "cell_type": "code",
   "execution_count": 18,
   "metadata": {},
   "outputs": [],
   "source": [
    "from sklearn.pipeline import Pipeline\n",
    "\n",
    "\n",
    "def init_numerical_pipeline(trial : Trial, columns: list[str] = None) -> Pipeline:\n",
    "\n",
    "  steps = [\n",
    "    ('imputer',init_imputer(trial)),\n",
    "    ('scaler', init_robust_scaler(trial)),\n",
    "    ('pca', pct.PCA_Transform(columns))\n",
    "  ]\n",
    "\n",
    "  #print(steps)\n",
    "\n",
    "  pipeline = Pipeline(steps)\n",
    "  return pipeline\n",
    "\n",
    "def init_categorical_pipeline(trial : Trial, columns: list[str] = None) -> Pipeline:\n",
    "  pipeline = Pipeline([\n",
    "    ('encoder', encoders.init_encoder(trial)),\n",
    "    ('scaler', init_robust_scaler(trial)) \n",
    "  ])\n",
    "  return pipeline"
   ]
  },
  {
   "cell_type": "code",
   "execution_count": 19,
   "metadata": {},
   "outputs": [],
   "source": [
    "from sklearn.compose import ColumnTransformer\n",
    "\n",
    "def init_processor(trial : Trial, numerical_columns : list[str], categorical_columns : list[str]) -> ColumnTransformer:\n",
    "\n",
    "  selected_numerical_columns = init_columns(trial, numerical_columns)\n",
    "  selected_categorical_columns = init_columns(trial, categorical_columns)\n",
    "\n",
    "  numerical_pipeline = init_numerical_pipeline(trial, selected_numerical_columns)\n",
    "  categorical_pipeline = init_categorical_pipeline(trial)\n",
    "  \n",
    "  \n",
    "\n",
    "  processor = ColumnTransformer([\n",
    "   ('numerical_pipeline', numerical_pipeline, selected_numerical_columns),\n",
    "   ('categorical_pipeline', categorical_pipeline, selected_categorical_columns)\n",
    "  ])\n",
    "  return processor\n",
    "\n",
    "def init_model(trial : Trial, numerical_columns : list[str], categorical_columns : list[str]) -> Pipeline:\n",
    "  processor = init_processor(\n",
    "    trial, numerical_columns, categorical_columns\n",
    "  )\n",
    "  learner = init_learner(trial)\n",
    "  \n",
    "  model = Pipeline([\n",
    "    ('processor', processor),\n",
    "    ('learner', learner)\n",
    "  ])\n",
    "  return model"
   ]
  },
  {
   "cell_type": "code",
   "execution_count": 20,
   "metadata": {},
   "outputs": [],
   "source": [
    "logging.set_verbosity(\n",
    "    logging.WARNING\n",
    ")  "
   ]
  },
  {
   "cell_type": "code",
   "execution_count": 71,
   "metadata": {},
   "outputs": [],
   "source": [
    "import pickle"
   ]
  },
  {
   "cell_type": "code",
   "execution_count": 164,
   "metadata": {},
   "outputs": [],
   "source": [
    "from typing import Optional\n",
    "from sklearn.model_selection import cross_val_score, KFold\n",
    "from sklearn.metrics import mean_absolute_percentage_error, make_scorer\n",
    "from pandas import DataFrame, Series\n",
    "import numpy as np\n",
    "\n",
    "def objective(trial : Trial, X : DataFrame, y : np.ndarray | Series, numerical_columns : Optional[list[str]]=None, categorical_columns : Optional[list[str]]=None, random_state : int=42) -> float:\n",
    "  \n",
    "  if not (len(numerical_columns) and len(categorical_columns)):\n",
    "    raise Exception(\"Numerical and categorical columns must be provided!\")\n",
    "  n_samples = X.shape[0]\n",
    "  X_train_sample = X.sample(n_samples, random_state=random_state)\n",
    "  y_train_sample = y.sample(n_samples, random_state=random_state)\n",
    "  #print(categorical_columns, X.columns)\n",
    "  model = init_model(trial, numerical_columns, categorical_columns)\n",
    "  #print(trial.user_attrs)\n",
    "  kf = KFold(n_splits=5, shuffle=True, random_state=random_state)\n",
    "  mape_scorer = make_scorer(mean_absolute_percentage_error, greater_is_better=False, needs_proba=False)\n",
    "  scores = cross_val_score(model, X_train_sample, y_train_sample, scoring=mape_scorer, cv=kf)\n",
    "  #model_to_save = model['learner']\n",
    "  trial.set_user_attr(key=\"best_model\", value=pickle.dumps(model).hex())\n",
    "  return np.min([np.mean(scores), np.median([scores])])"
   ]
  },
  {
   "cell_type": "code",
   "execution_count": 105,
   "metadata": {},
   "outputs": [],
   "source": [
    "def best_model_callback(study, trial):\n",
    "    print(\"C1\")\n",
    "    if study.best_trial.number == trial.number:\n",
    "        print(\"C2\")\n",
    "        study.set_user_attr(key=\"best_model\", value=trial.user_attrs[\"best_model\"])\n",
    "#callbacks=[best_model_callback]"
   ]
  },
  {
   "cell_type": "code",
   "execution_count": 165,
   "metadata": {},
   "outputs": [
    {
     "name": "stderr",
     "output_type": "stream",
     "text": [
      "[W 2024-02-22 17:14:38,855] Trial 6 failed with parameters: {'floorCount': False, 'latitude': False, 'buildYear': True, 'centreDistance': False, 'longitude': True, 'squareMeters': True, 'floor': False, 'poiCount': False, 'schoolDistance': True, 'pharmacyDistance': True, 'restaurantDistance': True, 'kindergartenDistance': True, 'clinicDistance': True, 'postOfficeDistance': True, 'collegeDistance': True, 'city': False, 'hasBalcony': False, 'hasSecurity': True, 'type': False, 'hasParkingSpace': True, 'hasElevator': True, 'ownership': False, 'hasStorageRoom': True, 'imputing_method': 'knn', 'indicate_missing': 'yes', 'with_centering': True, 'with_scaling': True, 'encoding_method': 'onehot', 'algorithm': 'linear', 'fit_intercept': False} because of the following error: TypeError('Object of type bytes is not JSON serializable').\n",
      "Traceback (most recent call last):\n",
      "  File \"/home/piotr/projects/ml-project/.venv/lib/python3.10/site-packages/optuna/study/_optimize.py\", line 200, in _run_trial\n",
      "    value_or_values = func(trial)\n",
      "  File \"/tmp/ipykernel_196967/1127665883.py\", line 5, in <lambda>\n",
      "    study.optimize(lambda trial: objective(trial, X_train, y_train,numerical_columns=num_columns, categorical_columns=cat_columns), callbacks=[best_model_callback], n_trials=2)\n",
      "  File \"/tmp/ipykernel_196967/141578832.py\", line 21, in objective\n",
      "    trial.set_user_attr(key=\"best_model\", value=pickle.dumps(model))\n",
      "  File \"/home/piotr/projects/ml-project/.venv/lib/python3.10/site-packages/optuna/trial/_trial.py\", line 595, in set_user_attr\n",
      "    self.storage.set_trial_user_attr(self._trial_id, key, value)\n",
      "  File \"/home/piotr/projects/ml-project/.venv/lib/python3.10/site-packages/optuna/storages/_cached_storage.py\", line 195, in set_trial_user_attr\n",
      "    self._backend.set_trial_user_attr(trial_id, key=key, value=value)\n",
      "  File \"/home/piotr/projects/ml-project/.venv/lib/python3.10/site-packages/optuna/storages/_rdb/storage.py\", line 721, in set_trial_user_attr\n",
      "    self._set_trial_user_attr_without_commit(session, trial_id, key, value)\n",
      "  File \"/home/piotr/projects/ml-project/.venv/lib/python3.10/site-packages/optuna/storages/_rdb/storage.py\", line 732, in _set_trial_user_attr_without_commit\n",
      "    trial_id=trial_id, key=key, value_json=json.dumps(value)\n",
      "  File \"/usr/lib/python3.10/json/__init__.py\", line 231, in dumps\n",
      "    return _default_encoder.encode(obj)\n",
      "  File \"/usr/lib/python3.10/json/encoder.py\", line 199, in encode\n",
      "    chunks = self.iterencode(o, _one_shot=True)\n",
      "  File \"/usr/lib/python3.10/json/encoder.py\", line 257, in iterencode\n",
      "    return _iterencode(o, 0)\n",
      "  File \"/usr/lib/python3.10/json/encoder.py\", line 179, in default\n",
      "    raise TypeError(f'Object of type {o.__class__.__name__} '\n",
      "TypeError: Object of type bytes is not JSON serializable\n",
      "[W 2024-02-22 17:14:38,856] Trial 6 failed with value None.\n"
     ]
    },
    {
     "ename": "TypeError",
     "evalue": "Object of type bytes is not JSON serializable",
     "output_type": "error",
     "traceback": [
      "\u001b[0;31m---------------------------------------------------------------------------\u001b[0m",
      "\u001b[0;31mTypeError\u001b[0m                                 Traceback (most recent call last)",
      "Cell \u001b[0;32mIn[165], line 5\u001b[0m\n\u001b[1;32m      1\u001b[0m \u001b[38;5;28;01mfrom\u001b[39;00m \u001b[38;5;21;01moptuna\u001b[39;00m \u001b[38;5;28;01mimport\u001b[39;00m create_study\n\u001b[1;32m      3\u001b[0m study \u001b[38;5;241m=\u001b[39m create_study(study_name\u001b[38;5;241m=\u001b[39m\u001b[38;5;124m'\u001b[39m\u001b[38;5;124moptimization\u001b[39m\u001b[38;5;124m'\u001b[39m, direction\u001b[38;5;241m=\u001b[39m\u001b[38;5;124m'\u001b[39m\u001b[38;5;124mmaximize\u001b[39m\u001b[38;5;124m'\u001b[39m, storage\u001b[38;5;241m=\u001b[39m\u001b[38;5;124m\"\u001b[39m\u001b[38;5;124msqlite:///optuna.sqlite3\u001b[39m\u001b[38;5;124m\"\u001b[39m, load_if_exists  \u001b[38;5;241m=\u001b[39m \u001b[38;5;28;01mTrue\u001b[39;00m)\n\u001b[0;32m----> 5\u001b[0m \u001b[43mstudy\u001b[49m\u001b[38;5;241;43m.\u001b[39;49m\u001b[43moptimize\u001b[49m\u001b[43m(\u001b[49m\u001b[38;5;28;43;01mlambda\u001b[39;49;00m\u001b[43m \u001b[49m\u001b[43mtrial\u001b[49m\u001b[43m:\u001b[49m\u001b[43m \u001b[49m\u001b[43mobjective\u001b[49m\u001b[43m(\u001b[49m\u001b[43mtrial\u001b[49m\u001b[43m,\u001b[49m\u001b[43m \u001b[49m\u001b[43mX_train\u001b[49m\u001b[43m,\u001b[49m\u001b[43m \u001b[49m\u001b[43my_train\u001b[49m\u001b[43m,\u001b[49m\u001b[43mnumerical_columns\u001b[49m\u001b[38;5;241;43m=\u001b[39;49m\u001b[43mnum_columns\u001b[49m\u001b[43m,\u001b[49m\u001b[43m \u001b[49m\u001b[43mcategorical_columns\u001b[49m\u001b[38;5;241;43m=\u001b[39;49m\u001b[43mcat_columns\u001b[49m\u001b[43m)\u001b[49m\u001b[43m,\u001b[49m\u001b[43m \u001b[49m\u001b[43mcallbacks\u001b[49m\u001b[38;5;241;43m=\u001b[39;49m\u001b[43m[\u001b[49m\u001b[43mbest_model_callback\u001b[49m\u001b[43m]\u001b[49m\u001b[43m,\u001b[49m\u001b[43m \u001b[49m\u001b[43mn_trials\u001b[49m\u001b[38;5;241;43m=\u001b[39;49m\u001b[38;5;241;43m2\u001b[39;49m\u001b[43m)\u001b[49m\n",
      "File \u001b[0;32m~/projects/ml-project/.venv/lib/python3.10/site-packages/optuna/study/study.py:451\u001b[0m, in \u001b[0;36mStudy.optimize\u001b[0;34m(self, func, n_trials, timeout, n_jobs, catch, callbacks, gc_after_trial, show_progress_bar)\u001b[0m\n\u001b[1;32m    348\u001b[0m \u001b[38;5;28;01mdef\u001b[39;00m \u001b[38;5;21moptimize\u001b[39m(\n\u001b[1;32m    349\u001b[0m     \u001b[38;5;28mself\u001b[39m,\n\u001b[1;32m    350\u001b[0m     func: ObjectiveFuncType,\n\u001b[0;32m   (...)\u001b[0m\n\u001b[1;32m    357\u001b[0m     show_progress_bar: \u001b[38;5;28mbool\u001b[39m \u001b[38;5;241m=\u001b[39m \u001b[38;5;28;01mFalse\u001b[39;00m,\n\u001b[1;32m    358\u001b[0m ) \u001b[38;5;241m-\u001b[39m\u001b[38;5;241m>\u001b[39m \u001b[38;5;28;01mNone\u001b[39;00m:\n\u001b[1;32m    359\u001b[0m \u001b[38;5;250m    \u001b[39m\u001b[38;5;124;03m\"\"\"Optimize an objective function.\u001b[39;00m\n\u001b[1;32m    360\u001b[0m \n\u001b[1;32m    361\u001b[0m \u001b[38;5;124;03m    Optimization is done by choosing a suitable set of hyperparameter values from a given\u001b[39;00m\n\u001b[0;32m   (...)\u001b[0m\n\u001b[1;32m    449\u001b[0m \u001b[38;5;124;03m            If nested invocation of this method occurs.\u001b[39;00m\n\u001b[1;32m    450\u001b[0m \u001b[38;5;124;03m    \"\"\"\u001b[39;00m\n\u001b[0;32m--> 451\u001b[0m     \u001b[43m_optimize\u001b[49m\u001b[43m(\u001b[49m\n\u001b[1;32m    452\u001b[0m \u001b[43m        \u001b[49m\u001b[43mstudy\u001b[49m\u001b[38;5;241;43m=\u001b[39;49m\u001b[38;5;28;43mself\u001b[39;49m\u001b[43m,\u001b[49m\n\u001b[1;32m    453\u001b[0m \u001b[43m        \u001b[49m\u001b[43mfunc\u001b[49m\u001b[38;5;241;43m=\u001b[39;49m\u001b[43mfunc\u001b[49m\u001b[43m,\u001b[49m\n\u001b[1;32m    454\u001b[0m \u001b[43m        \u001b[49m\u001b[43mn_trials\u001b[49m\u001b[38;5;241;43m=\u001b[39;49m\u001b[43mn_trials\u001b[49m\u001b[43m,\u001b[49m\n\u001b[1;32m    455\u001b[0m \u001b[43m        \u001b[49m\u001b[43mtimeout\u001b[49m\u001b[38;5;241;43m=\u001b[39;49m\u001b[43mtimeout\u001b[49m\u001b[43m,\u001b[49m\n\u001b[1;32m    456\u001b[0m \u001b[43m        \u001b[49m\u001b[43mn_jobs\u001b[49m\u001b[38;5;241;43m=\u001b[39;49m\u001b[43mn_jobs\u001b[49m\u001b[43m,\u001b[49m\n\u001b[1;32m    457\u001b[0m \u001b[43m        \u001b[49m\u001b[43mcatch\u001b[49m\u001b[38;5;241;43m=\u001b[39;49m\u001b[38;5;28;43mtuple\u001b[39;49m\u001b[43m(\u001b[49m\u001b[43mcatch\u001b[49m\u001b[43m)\u001b[49m\u001b[43m \u001b[49m\u001b[38;5;28;43;01mif\u001b[39;49;00m\u001b[43m \u001b[49m\u001b[38;5;28;43misinstance\u001b[39;49m\u001b[43m(\u001b[49m\u001b[43mcatch\u001b[49m\u001b[43m,\u001b[49m\u001b[43m \u001b[49m\u001b[43mIterable\u001b[49m\u001b[43m)\u001b[49m\u001b[43m \u001b[49m\u001b[38;5;28;43;01melse\u001b[39;49;00m\u001b[43m \u001b[49m\u001b[43m(\u001b[49m\u001b[43mcatch\u001b[49m\u001b[43m,\u001b[49m\u001b[43m)\u001b[49m\u001b[43m,\u001b[49m\n\u001b[1;32m    458\u001b[0m \u001b[43m        \u001b[49m\u001b[43mcallbacks\u001b[49m\u001b[38;5;241;43m=\u001b[39;49m\u001b[43mcallbacks\u001b[49m\u001b[43m,\u001b[49m\n\u001b[1;32m    459\u001b[0m \u001b[43m        \u001b[49m\u001b[43mgc_after_trial\u001b[49m\u001b[38;5;241;43m=\u001b[39;49m\u001b[43mgc_after_trial\u001b[49m\u001b[43m,\u001b[49m\n\u001b[1;32m    460\u001b[0m \u001b[43m        \u001b[49m\u001b[43mshow_progress_bar\u001b[49m\u001b[38;5;241;43m=\u001b[39;49m\u001b[43mshow_progress_bar\u001b[49m\u001b[43m,\u001b[49m\n\u001b[1;32m    461\u001b[0m \u001b[43m    \u001b[49m\u001b[43m)\u001b[49m\n",
      "File \u001b[0;32m~/projects/ml-project/.venv/lib/python3.10/site-packages/optuna/study/_optimize.py:66\u001b[0m, in \u001b[0;36m_optimize\u001b[0;34m(study, func, n_trials, timeout, n_jobs, catch, callbacks, gc_after_trial, show_progress_bar)\u001b[0m\n\u001b[1;32m     64\u001b[0m \u001b[38;5;28;01mtry\u001b[39;00m:\n\u001b[1;32m     65\u001b[0m     \u001b[38;5;28;01mif\u001b[39;00m n_jobs \u001b[38;5;241m==\u001b[39m \u001b[38;5;241m1\u001b[39m:\n\u001b[0;32m---> 66\u001b[0m         \u001b[43m_optimize_sequential\u001b[49m\u001b[43m(\u001b[49m\n\u001b[1;32m     67\u001b[0m \u001b[43m            \u001b[49m\u001b[43mstudy\u001b[49m\u001b[43m,\u001b[49m\n\u001b[1;32m     68\u001b[0m \u001b[43m            \u001b[49m\u001b[43mfunc\u001b[49m\u001b[43m,\u001b[49m\n\u001b[1;32m     69\u001b[0m \u001b[43m            \u001b[49m\u001b[43mn_trials\u001b[49m\u001b[43m,\u001b[49m\n\u001b[1;32m     70\u001b[0m \u001b[43m            \u001b[49m\u001b[43mtimeout\u001b[49m\u001b[43m,\u001b[49m\n\u001b[1;32m     71\u001b[0m \u001b[43m            \u001b[49m\u001b[43mcatch\u001b[49m\u001b[43m,\u001b[49m\n\u001b[1;32m     72\u001b[0m \u001b[43m            \u001b[49m\u001b[43mcallbacks\u001b[49m\u001b[43m,\u001b[49m\n\u001b[1;32m     73\u001b[0m \u001b[43m            \u001b[49m\u001b[43mgc_after_trial\u001b[49m\u001b[43m,\u001b[49m\n\u001b[1;32m     74\u001b[0m \u001b[43m            \u001b[49m\u001b[43mreseed_sampler_rng\u001b[49m\u001b[38;5;241;43m=\u001b[39;49m\u001b[38;5;28;43;01mFalse\u001b[39;49;00m\u001b[43m,\u001b[49m\n\u001b[1;32m     75\u001b[0m \u001b[43m            \u001b[49m\u001b[43mtime_start\u001b[49m\u001b[38;5;241;43m=\u001b[39;49m\u001b[38;5;28;43;01mNone\u001b[39;49;00m\u001b[43m,\u001b[49m\n\u001b[1;32m     76\u001b[0m \u001b[43m            \u001b[49m\u001b[43mprogress_bar\u001b[49m\u001b[38;5;241;43m=\u001b[39;49m\u001b[43mprogress_bar\u001b[49m\u001b[43m,\u001b[49m\n\u001b[1;32m     77\u001b[0m \u001b[43m        \u001b[49m\u001b[43m)\u001b[49m\n\u001b[1;32m     78\u001b[0m     \u001b[38;5;28;01melse\u001b[39;00m:\n\u001b[1;32m     79\u001b[0m         \u001b[38;5;28;01mif\u001b[39;00m n_jobs \u001b[38;5;241m==\u001b[39m \u001b[38;5;241m-\u001b[39m\u001b[38;5;241m1\u001b[39m:\n",
      "File \u001b[0;32m~/projects/ml-project/.venv/lib/python3.10/site-packages/optuna/study/_optimize.py:163\u001b[0m, in \u001b[0;36m_optimize_sequential\u001b[0;34m(study, func, n_trials, timeout, catch, callbacks, gc_after_trial, reseed_sampler_rng, time_start, progress_bar)\u001b[0m\n\u001b[1;32m    160\u001b[0m         \u001b[38;5;28;01mbreak\u001b[39;00m\n\u001b[1;32m    162\u001b[0m \u001b[38;5;28;01mtry\u001b[39;00m:\n\u001b[0;32m--> 163\u001b[0m     frozen_trial \u001b[38;5;241m=\u001b[39m \u001b[43m_run_trial\u001b[49m\u001b[43m(\u001b[49m\u001b[43mstudy\u001b[49m\u001b[43m,\u001b[49m\u001b[43m \u001b[49m\u001b[43mfunc\u001b[49m\u001b[43m,\u001b[49m\u001b[43m \u001b[49m\u001b[43mcatch\u001b[49m\u001b[43m)\u001b[49m\n\u001b[1;32m    164\u001b[0m \u001b[38;5;28;01mfinally\u001b[39;00m:\n\u001b[1;32m    165\u001b[0m     \u001b[38;5;66;03m# The following line mitigates memory problems that can be occurred in some\u001b[39;00m\n\u001b[1;32m    166\u001b[0m     \u001b[38;5;66;03m# environments (e.g., services that use computing containers such as GitHub Actions).\u001b[39;00m\n\u001b[1;32m    167\u001b[0m     \u001b[38;5;66;03m# Please refer to the following PR for further details:\u001b[39;00m\n\u001b[1;32m    168\u001b[0m     \u001b[38;5;66;03m# https://github.com/optuna/optuna/pull/325.\u001b[39;00m\n\u001b[1;32m    169\u001b[0m     \u001b[38;5;28;01mif\u001b[39;00m gc_after_trial:\n",
      "File \u001b[0;32m~/projects/ml-project/.venv/lib/python3.10/site-packages/optuna/study/_optimize.py:251\u001b[0m, in \u001b[0;36m_run_trial\u001b[0;34m(study, func, catch)\u001b[0m\n\u001b[1;32m    244\u001b[0m         \u001b[38;5;28;01massert\u001b[39;00m \u001b[38;5;28;01mFalse\u001b[39;00m, \u001b[38;5;124m\"\u001b[39m\u001b[38;5;124mShould not reach.\u001b[39m\u001b[38;5;124m\"\u001b[39m\n\u001b[1;32m    246\u001b[0m \u001b[38;5;28;01mif\u001b[39;00m (\n\u001b[1;32m    247\u001b[0m     frozen_trial\u001b[38;5;241m.\u001b[39mstate \u001b[38;5;241m==\u001b[39m TrialState\u001b[38;5;241m.\u001b[39mFAIL\n\u001b[1;32m    248\u001b[0m     \u001b[38;5;129;01mand\u001b[39;00m func_err \u001b[38;5;129;01mis\u001b[39;00m \u001b[38;5;129;01mnot\u001b[39;00m \u001b[38;5;28;01mNone\u001b[39;00m\n\u001b[1;32m    249\u001b[0m     \u001b[38;5;129;01mand\u001b[39;00m \u001b[38;5;129;01mnot\u001b[39;00m \u001b[38;5;28misinstance\u001b[39m(func_err, catch)\n\u001b[1;32m    250\u001b[0m ):\n\u001b[0;32m--> 251\u001b[0m     \u001b[38;5;28;01mraise\u001b[39;00m func_err\n\u001b[1;32m    252\u001b[0m \u001b[38;5;28;01mreturn\u001b[39;00m frozen_trial\n",
      "File \u001b[0;32m~/projects/ml-project/.venv/lib/python3.10/site-packages/optuna/study/_optimize.py:200\u001b[0m, in \u001b[0;36m_run_trial\u001b[0;34m(study, func, catch)\u001b[0m\n\u001b[1;32m    198\u001b[0m \u001b[38;5;28;01mwith\u001b[39;00m get_heartbeat_thread(trial\u001b[38;5;241m.\u001b[39m_trial_id, study\u001b[38;5;241m.\u001b[39m_storage):\n\u001b[1;32m    199\u001b[0m     \u001b[38;5;28;01mtry\u001b[39;00m:\n\u001b[0;32m--> 200\u001b[0m         value_or_values \u001b[38;5;241m=\u001b[39m \u001b[43mfunc\u001b[49m\u001b[43m(\u001b[49m\u001b[43mtrial\u001b[49m\u001b[43m)\u001b[49m\n\u001b[1;32m    201\u001b[0m     \u001b[38;5;28;01mexcept\u001b[39;00m exceptions\u001b[38;5;241m.\u001b[39mTrialPruned \u001b[38;5;28;01mas\u001b[39;00m e:\n\u001b[1;32m    202\u001b[0m         \u001b[38;5;66;03m# TODO(mamu): Handle multi-objective cases.\u001b[39;00m\n\u001b[1;32m    203\u001b[0m         state \u001b[38;5;241m=\u001b[39m TrialState\u001b[38;5;241m.\u001b[39mPRUNED\n",
      "Cell \u001b[0;32mIn[165], line 5\u001b[0m, in \u001b[0;36m<lambda>\u001b[0;34m(trial)\u001b[0m\n\u001b[1;32m      1\u001b[0m \u001b[38;5;28;01mfrom\u001b[39;00m \u001b[38;5;21;01moptuna\u001b[39;00m \u001b[38;5;28;01mimport\u001b[39;00m create_study\n\u001b[1;32m      3\u001b[0m study \u001b[38;5;241m=\u001b[39m create_study(study_name\u001b[38;5;241m=\u001b[39m\u001b[38;5;124m'\u001b[39m\u001b[38;5;124moptimization\u001b[39m\u001b[38;5;124m'\u001b[39m, direction\u001b[38;5;241m=\u001b[39m\u001b[38;5;124m'\u001b[39m\u001b[38;5;124mmaximize\u001b[39m\u001b[38;5;124m'\u001b[39m, storage\u001b[38;5;241m=\u001b[39m\u001b[38;5;124m\"\u001b[39m\u001b[38;5;124msqlite:///optuna.sqlite3\u001b[39m\u001b[38;5;124m\"\u001b[39m, load_if_exists  \u001b[38;5;241m=\u001b[39m \u001b[38;5;28;01mTrue\u001b[39;00m)\n\u001b[0;32m----> 5\u001b[0m study\u001b[38;5;241m.\u001b[39moptimize(\u001b[38;5;28;01mlambda\u001b[39;00m trial: \u001b[43mobjective\u001b[49m\u001b[43m(\u001b[49m\u001b[43mtrial\u001b[49m\u001b[43m,\u001b[49m\u001b[43m \u001b[49m\u001b[43mX_train\u001b[49m\u001b[43m,\u001b[49m\u001b[43m \u001b[49m\u001b[43my_train\u001b[49m\u001b[43m,\u001b[49m\u001b[43mnumerical_columns\u001b[49m\u001b[38;5;241;43m=\u001b[39;49m\u001b[43mnum_columns\u001b[49m\u001b[43m,\u001b[49m\u001b[43m \u001b[49m\u001b[43mcategorical_columns\u001b[49m\u001b[38;5;241;43m=\u001b[39;49m\u001b[43mcat_columns\u001b[49m\u001b[43m)\u001b[49m, callbacks\u001b[38;5;241m=\u001b[39m[best_model_callback], n_trials\u001b[38;5;241m=\u001b[39m\u001b[38;5;241m2\u001b[39m)\n",
      "Cell \u001b[0;32mIn[164], line 21\u001b[0m, in \u001b[0;36mobjective\u001b[0;34m(trial, X, y, numerical_columns, categorical_columns, random_state)\u001b[0m\n\u001b[1;32m     19\u001b[0m scores \u001b[38;5;241m=\u001b[39m cross_val_score(model, X_train_sample, y_train_sample, scoring\u001b[38;5;241m=\u001b[39mmape_scorer, cv\u001b[38;5;241m=\u001b[39mkf)\n\u001b[1;32m     20\u001b[0m \u001b[38;5;66;03m#model_to_save = model['learner']\u001b[39;00m\n\u001b[0;32m---> 21\u001b[0m \u001b[43mtrial\u001b[49m\u001b[38;5;241;43m.\u001b[39;49m\u001b[43mset_user_attr\u001b[49m\u001b[43m(\u001b[49m\u001b[43mkey\u001b[49m\u001b[38;5;241;43m=\u001b[39;49m\u001b[38;5;124;43m\"\u001b[39;49m\u001b[38;5;124;43mbest_model\u001b[39;49m\u001b[38;5;124;43m\"\u001b[39;49m\u001b[43m,\u001b[49m\u001b[43m \u001b[49m\u001b[43mvalue\u001b[49m\u001b[38;5;241;43m=\u001b[39;49m\u001b[43mpickle\u001b[49m\u001b[38;5;241;43m.\u001b[39;49m\u001b[43mdumps\u001b[49m\u001b[43m(\u001b[49m\u001b[43mmodel\u001b[49m\u001b[43m)\u001b[49m\u001b[43m)\u001b[49m\n\u001b[1;32m     22\u001b[0m \u001b[38;5;28;01mreturn\u001b[39;00m np\u001b[38;5;241m.\u001b[39mmin([np\u001b[38;5;241m.\u001b[39mmean(scores), np\u001b[38;5;241m.\u001b[39mmedian([scores])])\n",
      "File \u001b[0;32m~/projects/ml-project/.venv/lib/python3.10/site-packages/optuna/trial/_trial.py:595\u001b[0m, in \u001b[0;36mTrial.set_user_attr\u001b[0;34m(self, key, value)\u001b[0m\n\u001b[1;32m    541\u001b[0m \u001b[38;5;28;01mdef\u001b[39;00m \u001b[38;5;21mset_user_attr\u001b[39m(\u001b[38;5;28mself\u001b[39m, key: \u001b[38;5;28mstr\u001b[39m, value: Any) \u001b[38;5;241m-\u001b[39m\u001b[38;5;241m>\u001b[39m \u001b[38;5;28;01mNone\u001b[39;00m:\n\u001b[1;32m    542\u001b[0m \u001b[38;5;250m    \u001b[39m\u001b[38;5;124;03m\"\"\"Set user attributes to the trial.\u001b[39;00m\n\u001b[1;32m    543\u001b[0m \n\u001b[1;32m    544\u001b[0m \u001b[38;5;124;03m    The user attributes in the trial can be access via :func:`optuna.trial.Trial.user_attrs`.\u001b[39;00m\n\u001b[0;32m   (...)\u001b[0m\n\u001b[1;32m    592\u001b[0m \u001b[38;5;124;03m            A value of the attribute. The value should be JSON serializable.\u001b[39;00m\n\u001b[1;32m    593\u001b[0m \u001b[38;5;124;03m    \"\"\"\u001b[39;00m\n\u001b[0;32m--> 595\u001b[0m     \u001b[38;5;28;43mself\u001b[39;49m\u001b[38;5;241;43m.\u001b[39;49m\u001b[43mstorage\u001b[49m\u001b[38;5;241;43m.\u001b[39;49m\u001b[43mset_trial_user_attr\u001b[49m\u001b[43m(\u001b[49m\u001b[38;5;28;43mself\u001b[39;49m\u001b[38;5;241;43m.\u001b[39;49m\u001b[43m_trial_id\u001b[49m\u001b[43m,\u001b[49m\u001b[43m \u001b[49m\u001b[43mkey\u001b[49m\u001b[43m,\u001b[49m\u001b[43m \u001b[49m\u001b[43mvalue\u001b[49m\u001b[43m)\u001b[49m\n\u001b[1;32m    596\u001b[0m     \u001b[38;5;28mself\u001b[39m\u001b[38;5;241m.\u001b[39m_cached_frozen_trial\u001b[38;5;241m.\u001b[39muser_attrs[key] \u001b[38;5;241m=\u001b[39m value\n",
      "File \u001b[0;32m~/projects/ml-project/.venv/lib/python3.10/site-packages/optuna/storages/_cached_storage.py:195\u001b[0m, in \u001b[0;36m_CachedStorage.set_trial_user_attr\u001b[0;34m(self, trial_id, key, value)\u001b[0m\n\u001b[1;32m    194\u001b[0m \u001b[38;5;28;01mdef\u001b[39;00m \u001b[38;5;21mset_trial_user_attr\u001b[39m(\u001b[38;5;28mself\u001b[39m, trial_id: \u001b[38;5;28mint\u001b[39m, key: \u001b[38;5;28mstr\u001b[39m, value: Any) \u001b[38;5;241m-\u001b[39m\u001b[38;5;241m>\u001b[39m \u001b[38;5;28;01mNone\u001b[39;00m:\n\u001b[0;32m--> 195\u001b[0m     \u001b[38;5;28;43mself\u001b[39;49m\u001b[38;5;241;43m.\u001b[39;49m\u001b[43m_backend\u001b[49m\u001b[38;5;241;43m.\u001b[39;49m\u001b[43mset_trial_user_attr\u001b[49m\u001b[43m(\u001b[49m\u001b[43mtrial_id\u001b[49m\u001b[43m,\u001b[49m\u001b[43m \u001b[49m\u001b[43mkey\u001b[49m\u001b[38;5;241;43m=\u001b[39;49m\u001b[43mkey\u001b[49m\u001b[43m,\u001b[49m\u001b[43m \u001b[49m\u001b[43mvalue\u001b[49m\u001b[38;5;241;43m=\u001b[39;49m\u001b[43mvalue\u001b[49m\u001b[43m)\u001b[49m\n",
      "File \u001b[0;32m~/projects/ml-project/.venv/lib/python3.10/site-packages/optuna/storages/_rdb/storage.py:721\u001b[0m, in \u001b[0;36mRDBStorage.set_trial_user_attr\u001b[0;34m(self, trial_id, key, value)\u001b[0m\n\u001b[1;32m    719\u001b[0m \u001b[38;5;28;01mdef\u001b[39;00m \u001b[38;5;21mset_trial_user_attr\u001b[39m(\u001b[38;5;28mself\u001b[39m, trial_id: \u001b[38;5;28mint\u001b[39m, key: \u001b[38;5;28mstr\u001b[39m, value: Any) \u001b[38;5;241m-\u001b[39m\u001b[38;5;241m>\u001b[39m \u001b[38;5;28;01mNone\u001b[39;00m:\n\u001b[1;32m    720\u001b[0m     \u001b[38;5;28;01mwith\u001b[39;00m _create_scoped_session(\u001b[38;5;28mself\u001b[39m\u001b[38;5;241m.\u001b[39mscoped_session, \u001b[38;5;28;01mTrue\u001b[39;00m) \u001b[38;5;28;01mas\u001b[39;00m session:\n\u001b[0;32m--> 721\u001b[0m         \u001b[38;5;28;43mself\u001b[39;49m\u001b[38;5;241;43m.\u001b[39;49m\u001b[43m_set_trial_user_attr_without_commit\u001b[49m\u001b[43m(\u001b[49m\u001b[43msession\u001b[49m\u001b[43m,\u001b[49m\u001b[43m \u001b[49m\u001b[43mtrial_id\u001b[49m\u001b[43m,\u001b[49m\u001b[43m \u001b[49m\u001b[43mkey\u001b[49m\u001b[43m,\u001b[49m\u001b[43m \u001b[49m\u001b[43mvalue\u001b[49m\u001b[43m)\u001b[49m\n",
      "File \u001b[0;32m~/projects/ml-project/.venv/lib/python3.10/site-packages/optuna/storages/_rdb/storage.py:732\u001b[0m, in \u001b[0;36mRDBStorage._set_trial_user_attr_without_commit\u001b[0;34m(self, session, trial_id, key, value)\u001b[0m\n\u001b[1;32m    729\u001b[0m attribute \u001b[38;5;241m=\u001b[39m models\u001b[38;5;241m.\u001b[39mTrialUserAttributeModel\u001b[38;5;241m.\u001b[39mfind_by_trial_and_key(trial, key, session)\n\u001b[1;32m    730\u001b[0m \u001b[38;5;28;01mif\u001b[39;00m attribute \u001b[38;5;129;01mis\u001b[39;00m \u001b[38;5;28;01mNone\u001b[39;00m:\n\u001b[1;32m    731\u001b[0m     attribute \u001b[38;5;241m=\u001b[39m models\u001b[38;5;241m.\u001b[39mTrialUserAttributeModel(\n\u001b[0;32m--> 732\u001b[0m         trial_id\u001b[38;5;241m=\u001b[39mtrial_id, key\u001b[38;5;241m=\u001b[39mkey, value_json\u001b[38;5;241m=\u001b[39m\u001b[43mjson\u001b[49m\u001b[38;5;241;43m.\u001b[39;49m\u001b[43mdumps\u001b[49m\u001b[43m(\u001b[49m\u001b[43mvalue\u001b[49m\u001b[43m)\u001b[49m\n\u001b[1;32m    733\u001b[0m     )\n\u001b[1;32m    734\u001b[0m     session\u001b[38;5;241m.\u001b[39madd(attribute)\n\u001b[1;32m    735\u001b[0m \u001b[38;5;28;01melse\u001b[39;00m:\n",
      "File \u001b[0;32m/usr/lib/python3.10/json/__init__.py:231\u001b[0m, in \u001b[0;36mdumps\u001b[0;34m(obj, skipkeys, ensure_ascii, check_circular, allow_nan, cls, indent, separators, default, sort_keys, **kw)\u001b[0m\n\u001b[1;32m    226\u001b[0m \u001b[38;5;66;03m# cached encoder\u001b[39;00m\n\u001b[1;32m    227\u001b[0m \u001b[38;5;28;01mif\u001b[39;00m (\u001b[38;5;129;01mnot\u001b[39;00m skipkeys \u001b[38;5;129;01mand\u001b[39;00m ensure_ascii \u001b[38;5;129;01mand\u001b[39;00m\n\u001b[1;32m    228\u001b[0m     check_circular \u001b[38;5;129;01mand\u001b[39;00m allow_nan \u001b[38;5;129;01mand\u001b[39;00m\n\u001b[1;32m    229\u001b[0m     \u001b[38;5;28mcls\u001b[39m \u001b[38;5;129;01mis\u001b[39;00m \u001b[38;5;28;01mNone\u001b[39;00m \u001b[38;5;129;01mand\u001b[39;00m indent \u001b[38;5;129;01mis\u001b[39;00m \u001b[38;5;28;01mNone\u001b[39;00m \u001b[38;5;129;01mand\u001b[39;00m separators \u001b[38;5;129;01mis\u001b[39;00m \u001b[38;5;28;01mNone\u001b[39;00m \u001b[38;5;129;01mand\u001b[39;00m\n\u001b[1;32m    230\u001b[0m     default \u001b[38;5;129;01mis\u001b[39;00m \u001b[38;5;28;01mNone\u001b[39;00m \u001b[38;5;129;01mand\u001b[39;00m \u001b[38;5;129;01mnot\u001b[39;00m sort_keys \u001b[38;5;129;01mand\u001b[39;00m \u001b[38;5;129;01mnot\u001b[39;00m kw):\n\u001b[0;32m--> 231\u001b[0m     \u001b[38;5;28;01mreturn\u001b[39;00m \u001b[43m_default_encoder\u001b[49m\u001b[38;5;241;43m.\u001b[39;49m\u001b[43mencode\u001b[49m\u001b[43m(\u001b[49m\u001b[43mobj\u001b[49m\u001b[43m)\u001b[49m\n\u001b[1;32m    232\u001b[0m \u001b[38;5;28;01mif\u001b[39;00m \u001b[38;5;28mcls\u001b[39m \u001b[38;5;129;01mis\u001b[39;00m \u001b[38;5;28;01mNone\u001b[39;00m:\n\u001b[1;32m    233\u001b[0m     \u001b[38;5;28mcls\u001b[39m \u001b[38;5;241m=\u001b[39m JSONEncoder\n",
      "File \u001b[0;32m/usr/lib/python3.10/json/encoder.py:199\u001b[0m, in \u001b[0;36mJSONEncoder.encode\u001b[0;34m(self, o)\u001b[0m\n\u001b[1;32m    195\u001b[0m         \u001b[38;5;28;01mreturn\u001b[39;00m encode_basestring(o)\n\u001b[1;32m    196\u001b[0m \u001b[38;5;66;03m# This doesn't pass the iterator directly to ''.join() because the\u001b[39;00m\n\u001b[1;32m    197\u001b[0m \u001b[38;5;66;03m# exceptions aren't as detailed.  The list call should be roughly\u001b[39;00m\n\u001b[1;32m    198\u001b[0m \u001b[38;5;66;03m# equivalent to the PySequence_Fast that ''.join() would do.\u001b[39;00m\n\u001b[0;32m--> 199\u001b[0m chunks \u001b[38;5;241m=\u001b[39m \u001b[38;5;28;43mself\u001b[39;49m\u001b[38;5;241;43m.\u001b[39;49m\u001b[43miterencode\u001b[49m\u001b[43m(\u001b[49m\u001b[43mo\u001b[49m\u001b[43m,\u001b[49m\u001b[43m \u001b[49m\u001b[43m_one_shot\u001b[49m\u001b[38;5;241;43m=\u001b[39;49m\u001b[38;5;28;43;01mTrue\u001b[39;49;00m\u001b[43m)\u001b[49m\n\u001b[1;32m    200\u001b[0m \u001b[38;5;28;01mif\u001b[39;00m \u001b[38;5;129;01mnot\u001b[39;00m \u001b[38;5;28misinstance\u001b[39m(chunks, (\u001b[38;5;28mlist\u001b[39m, \u001b[38;5;28mtuple\u001b[39m)):\n\u001b[1;32m    201\u001b[0m     chunks \u001b[38;5;241m=\u001b[39m \u001b[38;5;28mlist\u001b[39m(chunks)\n",
      "File \u001b[0;32m/usr/lib/python3.10/json/encoder.py:257\u001b[0m, in \u001b[0;36mJSONEncoder.iterencode\u001b[0;34m(self, o, _one_shot)\u001b[0m\n\u001b[1;32m    252\u001b[0m \u001b[38;5;28;01melse\u001b[39;00m:\n\u001b[1;32m    253\u001b[0m     _iterencode \u001b[38;5;241m=\u001b[39m _make_iterencode(\n\u001b[1;32m    254\u001b[0m         markers, \u001b[38;5;28mself\u001b[39m\u001b[38;5;241m.\u001b[39mdefault, _encoder, \u001b[38;5;28mself\u001b[39m\u001b[38;5;241m.\u001b[39mindent, floatstr,\n\u001b[1;32m    255\u001b[0m         \u001b[38;5;28mself\u001b[39m\u001b[38;5;241m.\u001b[39mkey_separator, \u001b[38;5;28mself\u001b[39m\u001b[38;5;241m.\u001b[39mitem_separator, \u001b[38;5;28mself\u001b[39m\u001b[38;5;241m.\u001b[39msort_keys,\n\u001b[1;32m    256\u001b[0m         \u001b[38;5;28mself\u001b[39m\u001b[38;5;241m.\u001b[39mskipkeys, _one_shot)\n\u001b[0;32m--> 257\u001b[0m \u001b[38;5;28;01mreturn\u001b[39;00m \u001b[43m_iterencode\u001b[49m\u001b[43m(\u001b[49m\u001b[43mo\u001b[49m\u001b[43m,\u001b[49m\u001b[43m \u001b[49m\u001b[38;5;241;43m0\u001b[39;49m\u001b[43m)\u001b[49m\n",
      "File \u001b[0;32m/usr/lib/python3.10/json/encoder.py:179\u001b[0m, in \u001b[0;36mJSONEncoder.default\u001b[0;34m(self, o)\u001b[0m\n\u001b[1;32m    160\u001b[0m \u001b[38;5;28;01mdef\u001b[39;00m \u001b[38;5;21mdefault\u001b[39m(\u001b[38;5;28mself\u001b[39m, o):\n\u001b[1;32m    161\u001b[0m \u001b[38;5;250m    \u001b[39m\u001b[38;5;124;03m\"\"\"Implement this method in a subclass such that it returns\u001b[39;00m\n\u001b[1;32m    162\u001b[0m \u001b[38;5;124;03m    a serializable object for ``o``, or calls the base implementation\u001b[39;00m\n\u001b[1;32m    163\u001b[0m \u001b[38;5;124;03m    (to raise a ``TypeError``).\u001b[39;00m\n\u001b[0;32m   (...)\u001b[0m\n\u001b[1;32m    177\u001b[0m \n\u001b[1;32m    178\u001b[0m \u001b[38;5;124;03m    \"\"\"\u001b[39;00m\n\u001b[0;32m--> 179\u001b[0m     \u001b[38;5;28;01mraise\u001b[39;00m \u001b[38;5;167;01mTypeError\u001b[39;00m(\u001b[38;5;124mf\u001b[39m\u001b[38;5;124m'\u001b[39m\u001b[38;5;124mObject of type \u001b[39m\u001b[38;5;132;01m{\u001b[39;00mo\u001b[38;5;241m.\u001b[39m\u001b[38;5;18m__class__\u001b[39m\u001b[38;5;241m.\u001b[39m\u001b[38;5;18m__name__\u001b[39m\u001b[38;5;132;01m}\u001b[39;00m\u001b[38;5;124m \u001b[39m\u001b[38;5;124m'\u001b[39m\n\u001b[1;32m    180\u001b[0m                     \u001b[38;5;124mf\u001b[39m\u001b[38;5;124m'\u001b[39m\u001b[38;5;124mis not JSON serializable\u001b[39m\u001b[38;5;124m'\u001b[39m)\n",
      "\u001b[0;31mTypeError\u001b[0m: Object of type bytes is not JSON serializable"
     ]
    }
   ],
   "source": [
    "from optuna import create_study\n",
    "\n",
    "study = create_study(study_name='optimization', direction='maximize', storage=\"sqlite:///optuna.sqlite3\", load_if_exists  = True)\n",
    "\n",
    "study.optimize(lambda trial: objective(trial, X_train, y_train,numerical_columns=num_columns, categorical_columns=cat_columns), callbacks=[best_model_callback], n_trials=2)"
   ]
  },
  {
   "cell_type": "code",
   "execution_count": 156,
   "metadata": {},
   "outputs": [
    {
     "name": "stdout",
     "output_type": "stream",
     "text": [
      "Best value: -0.2500698194868202 (params: {'floorCount': True, 'latitude': True, 'buildYear': False, 'centreDistance': True, 'longitude': False, 'squareMeters': False, 'floor': True, 'poiCount': False, 'schoolDistance': True, 'pharmacyDistance': True, 'restaurantDistance': True, 'kindergartenDistance': True, 'clinicDistance': True, 'postOfficeDistance': True, 'collegeDistance': True, 'city': True, 'hasBalcony': False, 'hasSecurity': False, 'type': True, 'hasParkingSpace': False, 'hasElevator': True, 'ownership': True, 'hasStorageRoom': False, 'imputing_method': 'knn', 'indicate_missing': 'yes', 'with_centering': False, 'with_scaling': False, 'encoding_method': 'onehot', 'algorithm': 'extra_forest', 'n_estimators': 830, 'max_depth': 20, 'max_features': 0.3227371977621448, 'bootstrap': False})\n"
     ]
    }
   ],
   "source": [
    "print(f\"Best value: {study.best_value} (params: {study.best_params})\")"
   ]
  },
  {
   "cell_type": "code",
   "execution_count": 157,
   "metadata": {},
   "outputs": [],
   "source": [
    "model_bytes = study.user_attrs['best_model']['model']"
   ]
  },
  {
   "cell_type": "code",
   "execution_count": 158,
   "metadata": {},
   "outputs": [
    {
     "name": "stdout",
     "output_type": "stream",
     "text": [
      "b'\\x80\\x04\\x95B\\t\\x00\\x00\\x00\\x00\\x00\\x00\\x8c\\x10sklearn.pipeline\\x94\\x8c\\x08Pipeline\\x94\\x93\\x94)\\x81\\x94}\\x94(\\x8c\\x05steps\\x94]\\x94(\\x8c\\tprocessor\\x94\\x8c#sklearn.compose._column_transformer\\x94\\x8c\\x11ColumnTransformer\\x94\\x93\\x94)\\x81\\x94}\\x94(\\x8c\\x0ctransformers\\x94]\\x94(\\x8c\\x12numerical_pipeline\\x94h\\x02)\\x81\\x94}\\x94(h\\x05]\\x94(\\x8c\\x07imputer\\x94\\x8c\\x13sklearn.impute._knn\\x94\\x8c\\nKNNImputer\\x94\\x93\\x94)\\x81\\x94}\\x94(\\x8c\\x0emissing_values\\x94G\\x7f\\xf8\\x00\\x00\\x00\\x00\\x00\\x00\\x8c\\radd_indicator\\x94\\x89\\x8c\\x13keep_empty_features\\x94\\x89\\x8c\\x0bn_neighbors\\x94K\\x05\\x8c\\x07weights\\x94\\x8c\\x07uniform\\x94\\x8c\\x06metric\\x94\\x8c\\rnan_euclidean\\x94\\x8c\\x04copy\\x94\\x88\\x8c\\x10_sklearn_version\\x94\\x8c\\x051.3.2\\x94ub\\x86\\x94\\x8c\\x06scaler\\x94\\x8c\\x1bsklearn.preprocessing._data\\x94\\x8c\\x0cRobustScaler\\x94\\x93\\x94)\\x81\\x94}\\x94(\\x8c\\x0ewith_centering\\x94\\x89\\x8c\\x0cwith_scaling\\x94\\x89\\x8c\\x0equantile_range\\x94G@9\\x00\\x00\\x00\\x00\\x00\\x00G@R\\xc0\\x00\\x00\\x00\\x00\\x00\\x86\\x94\\x8c\\runit_variance\\x94\\x89h!\\x88h\"h#ub\\x86\\x94\\x8c\\x03pca\\x94\\x8c\\x13lib.PCA_Transformer\\x94\\x8c\\rPCA_Transform\\x94\\x93\\x94)\\x81\\x94}\\x94(\\x8c\\rpca_threshold\\x94G?\\xe0\\x00\\x00\\x00\\x00\\x00\\x00\\x8c\\x0bpca_columns\\x94]\\x94(\\x8c\\x0eschoolDistance\\x94\\x8c\\x0eclinicDistance\\x94\\x8c\\x12postOfficeDistance\\x94\\x8c\\x14kindergartenDistance\\x94\\x8c\\x12restaurantDistance\\x94\\x8c\\x0fcollegeDistance\\x94\\x8c\\x10pharmacyDistance\\x94eh1\\x8c\\x1asklearn.decomposition._pca\\x94\\x8c\\x03PCA\\x94\\x93\\x94)\\x81\\x94}\\x94(\\x8c\\x0cn_components\\x94G?\\xe0\\x00\\x00\\x00\\x00\\x00\\x00h!\\x88\\x8c\\x06whiten\\x94\\x89\\x8c\\nsvd_solver\\x94\\x8c\\x04auto\\x94\\x8c\\x03tol\\x94G\\x00\\x00\\x00\\x00\\x00\\x00\\x00\\x00\\x8c\\x0eiterated_power\\x94hI\\x8c\\rn_oversamples\\x94K\\n\\x8c\\x1apower_iteration_normalizer\\x94hI\\x8c\\x0crandom_state\\x94Nh\"h#ub\\x8c\\x0ball_columns\\x94]\\x94(\\x8c\\nfloorCount\\x94\\x8c\\x08latitude\\x94\\x8c\\x0ecentreDistance\\x94\\x8c\\x05floor\\x94\\x8c\\x0eschoolDistance\\x94\\x8c\\x10pharmacyDistance\\x94\\x8c\\x12restaurantDistance\\x94\\x8c\\x14kindergartenDistance\\x94\\x8c\\x0eclinicDistance\\x94\\x8c\\x12postOfficeDistance\\x94\\x8c\\x0fcollegeDistance\\x94eub\\x86\\x94e\\x8c\\x06memory\\x94N\\x8c\\x07verbose\\x94\\x89h\"h#ubhP\\x87\\x94\\x8c\\x14categorical_pipeline\\x94h\\x02)\\x81\\x94}\\x94(h\\x05]\\x94(\\x8c\\x07encoder\\x94\\x8c\\x1fsklearn.preprocessing._encoders\\x94\\x8c\\rOneHotEncoder\\x94\\x93\\x94)\\x81\\x94}\\x94(\\x8c\\ncategories\\x94hI\\x8c\\x06sparse\\x94\\x8c\\ndeprecated\\x94\\x8c\\rsparse_output\\x94\\x89\\x8c\\x05dtype\\x94\\x8c\\x05numpy\\x94\\x8c\\x07float64\\x94\\x93\\x94\\x8c\\x0ehandle_unknown\\x94\\x8c\\x05error\\x94\\x8c\\x04drop\\x94N\\x8c\\rmin_frequency\\x94N\\x8c\\x0emax_categories\\x94N\\x8c\\x15feature_name_combiner\\x94\\x8c\\x06concat\\x94h\"h#ub\\x86\\x94h%h()\\x81\\x94}\\x94(h+\\x89h,\\x89h-h.h/\\x89h!\\x88h\"h#ub\\x86\\x94eh]Nh^\\x89h\"h#ub]\\x94(\\x8c\\x04city\\x94\\x8c\\x04type\\x94\\x8c\\x0bhasElevator\\x94\\x8c\\townership\\x94e\\x87\\x94e\\x8c\\tremainder\\x94ht\\x8c\\x10sparse_threshold\\x94G?\\xd3333333\\x8c\\x06n_jobs\\x94N\\x8c\\x13transformer_weights\\x94Nh^\\x89\\x8c\\x19verbose_feature_names_out\\x94\\x88h\"h#ub\\x86\\x94\\x8c\\x07learner\\x94\\x8c\\x18sklearn.ensemble._forest\\x94\\x8c\\x13ExtraTreesRegressor\\x94\\x93\\x94)\\x81\\x94}\\x94(\\x8c\\testimator\\x94\\x8c\\x15sklearn.tree._classes\\x94\\x8c\\x12ExtraTreeRegressor\\x94\\x93\\x94)\\x81\\x94}\\x94(\\x8c\\tcriterion\\x94\\x8c\\rsquared_error\\x94\\x8c\\x08splitter\\x94\\x8c\\x06random\\x94\\x8c\\tmax_depth\\x94N\\x8c\\x11min_samples_split\\x94K\\x02\\x8c\\x10min_samples_leaf\\x94K\\x01\\x8c\\x18min_weight_fraction_leaf\\x94G\\x00\\x00\\x00\\x00\\x00\\x00\\x00\\x00\\x8c\\x0cmax_features\\x94G?\\xf0\\x00\\x00\\x00\\x00\\x00\\x00\\x8c\\x0emax_leaf_nodes\\x94NhNN\\x8c\\x15min_impurity_decrease\\x94G\\x00\\x00\\x00\\x00\\x00\\x00\\x00\\x00\\x8c\\x0cclass_weight\\x94N\\x8c\\tccp_alpha\\x94G\\x00\\x00\\x00\\x00\\x00\\x00\\x00\\x00h\"h#ub\\x8c\\x0cn_estimators\\x94M>\\x03\\x8c\\x10estimator_params\\x94(h\\x95h\\x99h\\x9ah\\x9bh\\x9ch\\x9dh\\x9eh\\x9fhNh\\xa1t\\x94\\x8c\\x0ebase_estimator\\x94hl\\x8c\\tbootstrap\\x94\\x89\\x8c\\toob_score\\x94\\x89h\\x85J\\xff\\xff\\xff\\xffhNK*h^K\\x00\\x8c\\nwarm_start\\x94\\x89h\\xa0N\\x8c\\x0bmax_samples\\x94Nh\\x95h\\x96h\\x99K\\x14h\\x9aK\\x02h\\x9bK\\x01h\\x9cG\\x00\\x00\\x00\\x00\\x00\\x00\\x00\\x00h\\x9dG?\\xd4\\xa7\\xb9\\xebe\\xd4\\x86h\\x9eNh\\x9fG\\x00\\x00\\x00\\x00\\x00\\x00\\x00\\x00h\\xa1G\\x00\\x00\\x00\\x00\\x00\\x00\\x00\\x00h\"h#ub\\x86\\x94eh]Nh^\\x89h\"h#ub.'\n"
     ]
    }
   ],
   "source": [
    "print(bytes.fromhex(model_bytes))"
   ]
  },
  {
   "cell_type": "code",
   "execution_count": 159,
   "metadata": {},
   "outputs": [],
   "source": [
    "model = pickle.loads(bytes.fromhex(model_bytes))"
   ]
  },
  {
   "cell_type": "code",
   "execution_count": 161,
   "metadata": {},
   "outputs": [
    {
     "data": {
      "text/html": [
       "<style>#sk-container-id-6 {color: black;}#sk-container-id-6 pre{padding: 0;}#sk-container-id-6 div.sk-toggleable {background-color: white;}#sk-container-id-6 label.sk-toggleable__label {cursor: pointer;display: block;width: 100%;margin-bottom: 0;padding: 0.3em;box-sizing: border-box;text-align: center;}#sk-container-id-6 label.sk-toggleable__label-arrow:before {content: \"▸\";float: left;margin-right: 0.25em;color: #696969;}#sk-container-id-6 label.sk-toggleable__label-arrow:hover:before {color: black;}#sk-container-id-6 div.sk-estimator:hover label.sk-toggleable__label-arrow:before {color: black;}#sk-container-id-6 div.sk-toggleable__content {max-height: 0;max-width: 0;overflow: hidden;text-align: left;background-color: #f0f8ff;}#sk-container-id-6 div.sk-toggleable__content pre {margin: 0.2em;color: black;border-radius: 0.25em;background-color: #f0f8ff;}#sk-container-id-6 input.sk-toggleable__control:checked~div.sk-toggleable__content {max-height: 200px;max-width: 100%;overflow: auto;}#sk-container-id-6 input.sk-toggleable__control:checked~label.sk-toggleable__label-arrow:before {content: \"▾\";}#sk-container-id-6 div.sk-estimator input.sk-toggleable__control:checked~label.sk-toggleable__label {background-color: #d4ebff;}#sk-container-id-6 div.sk-label input.sk-toggleable__control:checked~label.sk-toggleable__label {background-color: #d4ebff;}#sk-container-id-6 input.sk-hidden--visually {border: 0;clip: rect(1px 1px 1px 1px);clip: rect(1px, 1px, 1px, 1px);height: 1px;margin: -1px;overflow: hidden;padding: 0;position: absolute;width: 1px;}#sk-container-id-6 div.sk-estimator {font-family: monospace;background-color: #f0f8ff;border: 1px dotted black;border-radius: 0.25em;box-sizing: border-box;margin-bottom: 0.5em;}#sk-container-id-6 div.sk-estimator:hover {background-color: #d4ebff;}#sk-container-id-6 div.sk-parallel-item::after {content: \"\";width: 100%;border-bottom: 1px solid gray;flex-grow: 1;}#sk-container-id-6 div.sk-label:hover label.sk-toggleable__label {background-color: #d4ebff;}#sk-container-id-6 div.sk-serial::before {content: \"\";position: absolute;border-left: 1px solid gray;box-sizing: border-box;top: 0;bottom: 0;left: 50%;z-index: 0;}#sk-container-id-6 div.sk-serial {display: flex;flex-direction: column;align-items: center;background-color: white;padding-right: 0.2em;padding-left: 0.2em;position: relative;}#sk-container-id-6 div.sk-item {position: relative;z-index: 1;}#sk-container-id-6 div.sk-parallel {display: flex;align-items: stretch;justify-content: center;background-color: white;position: relative;}#sk-container-id-6 div.sk-item::before, #sk-container-id-6 div.sk-parallel-item::before {content: \"\";position: absolute;border-left: 1px solid gray;box-sizing: border-box;top: 0;bottom: 0;left: 50%;z-index: -1;}#sk-container-id-6 div.sk-parallel-item {display: flex;flex-direction: column;z-index: 1;position: relative;background-color: white;}#sk-container-id-6 div.sk-parallel-item:first-child::after {align-self: flex-end;width: 50%;}#sk-container-id-6 div.sk-parallel-item:last-child::after {align-self: flex-start;width: 50%;}#sk-container-id-6 div.sk-parallel-item:only-child::after {width: 0;}#sk-container-id-6 div.sk-dashed-wrapped {border: 1px dashed gray;margin: 0 0.4em 0.5em 0.4em;box-sizing: border-box;padding-bottom: 0.4em;background-color: white;}#sk-container-id-6 div.sk-label label {font-family: monospace;font-weight: bold;display: inline-block;line-height: 1.2em;}#sk-container-id-6 div.sk-label-container {text-align: center;}#sk-container-id-6 div.sk-container {/* jupyter's `normalize.less` sets `[hidden] { display: none; }` but bootstrap.min.css set `[hidden] { display: none !important; }` so we also need the `!important` here to be able to override the default hidden behavior on the sphinx rendered scikit-learn.org. See: https://github.com/scikit-learn/scikit-learn/issues/21755 */display: inline-block !important;position: relative;}#sk-container-id-6 div.sk-text-repr-fallback {display: none;}</style><div id=\"sk-container-id-6\" class=\"sk-top-container\"><div class=\"sk-text-repr-fallback\"><pre>Pipeline(steps=[(&#x27;processor&#x27;,\n",
       "                 ColumnTransformer(transformers=[(&#x27;numerical_pipeline&#x27;,\n",
       "                                                  Pipeline(steps=[(&#x27;imputer&#x27;,\n",
       "                                                                   KNNImputer()),\n",
       "                                                                  (&#x27;scaler&#x27;,\n",
       "                                                                   RobustScaler(with_centering=False,\n",
       "                                                                                with_scaling=False)),\n",
       "                                                                  (&#x27;pca&#x27;,\n",
       "                                                                   PCA_Transform(all_columns=[&#x27;floorCount&#x27;,\n",
       "                                                                                              &#x27;latitude&#x27;,\n",
       "                                                                                              &#x27;centreDistance&#x27;,\n",
       "                                                                                              &#x27;floor&#x27;,\n",
       "                                                                                              &#x27;schoolDistance&#x27;,\n",
       "                                                                                              &#x27;pharmacyDistance&#x27;,\n",
       "                                                                                              &#x27;restaurantDistance&#x27;,\n",
       "                                                                                              &#x27;kindergartenDistance...\n",
       "                                                   &#x27;postOfficeDistance&#x27;,\n",
       "                                                   &#x27;collegeDistance&#x27;]),\n",
       "                                                 (&#x27;categorical_pipeline&#x27;,\n",
       "                                                  Pipeline(steps=[(&#x27;encoder&#x27;,\n",
       "                                                                   OneHotEncoder(sparse_output=False)),\n",
       "                                                                  (&#x27;scaler&#x27;,\n",
       "                                                                   RobustScaler(with_centering=False,\n",
       "                                                                                with_scaling=False))]),\n",
       "                                                  [&#x27;city&#x27;, &#x27;type&#x27;,\n",
       "                                                   &#x27;hasElevator&#x27;,\n",
       "                                                   &#x27;ownership&#x27;])])),\n",
       "                (&#x27;learner&#x27;,\n",
       "                 ExtraTreesRegressor(max_depth=20,\n",
       "                                     max_features=0.3227371977621448,\n",
       "                                     n_estimators=830, n_jobs=-1,\n",
       "                                     random_state=42))])</pre><b>In a Jupyter environment, please rerun this cell to show the HTML representation or trust the notebook. <br />On GitHub, the HTML representation is unable to render, please try loading this page with nbviewer.org.</b></div><div class=\"sk-container\" hidden><div class=\"sk-item sk-dashed-wrapped\"><div class=\"sk-label-container\"><div class=\"sk-label sk-toggleable\"><input class=\"sk-toggleable__control sk-hidden--visually\" id=\"sk-estimator-id-42\" type=\"checkbox\" ><label for=\"sk-estimator-id-42\" class=\"sk-toggleable__label sk-toggleable__label-arrow\">Pipeline</label><div class=\"sk-toggleable__content\"><pre>Pipeline(steps=[(&#x27;processor&#x27;,\n",
       "                 ColumnTransformer(transformers=[(&#x27;numerical_pipeline&#x27;,\n",
       "                                                  Pipeline(steps=[(&#x27;imputer&#x27;,\n",
       "                                                                   KNNImputer()),\n",
       "                                                                  (&#x27;scaler&#x27;,\n",
       "                                                                   RobustScaler(with_centering=False,\n",
       "                                                                                with_scaling=False)),\n",
       "                                                                  (&#x27;pca&#x27;,\n",
       "                                                                   PCA_Transform(all_columns=[&#x27;floorCount&#x27;,\n",
       "                                                                                              &#x27;latitude&#x27;,\n",
       "                                                                                              &#x27;centreDistance&#x27;,\n",
       "                                                                                              &#x27;floor&#x27;,\n",
       "                                                                                              &#x27;schoolDistance&#x27;,\n",
       "                                                                                              &#x27;pharmacyDistance&#x27;,\n",
       "                                                                                              &#x27;restaurantDistance&#x27;,\n",
       "                                                                                              &#x27;kindergartenDistance...\n",
       "                                                   &#x27;postOfficeDistance&#x27;,\n",
       "                                                   &#x27;collegeDistance&#x27;]),\n",
       "                                                 (&#x27;categorical_pipeline&#x27;,\n",
       "                                                  Pipeline(steps=[(&#x27;encoder&#x27;,\n",
       "                                                                   OneHotEncoder(sparse_output=False)),\n",
       "                                                                  (&#x27;scaler&#x27;,\n",
       "                                                                   RobustScaler(with_centering=False,\n",
       "                                                                                with_scaling=False))]),\n",
       "                                                  [&#x27;city&#x27;, &#x27;type&#x27;,\n",
       "                                                   &#x27;hasElevator&#x27;,\n",
       "                                                   &#x27;ownership&#x27;])])),\n",
       "                (&#x27;learner&#x27;,\n",
       "                 ExtraTreesRegressor(max_depth=20,\n",
       "                                     max_features=0.3227371977621448,\n",
       "                                     n_estimators=830, n_jobs=-1,\n",
       "                                     random_state=42))])</pre></div></div></div><div class=\"sk-serial\"><div class=\"sk-item sk-dashed-wrapped\"><div class=\"sk-label-container\"><div class=\"sk-label sk-toggleable\"><input class=\"sk-toggleable__control sk-hidden--visually\" id=\"sk-estimator-id-43\" type=\"checkbox\" ><label for=\"sk-estimator-id-43\" class=\"sk-toggleable__label sk-toggleable__label-arrow\">processor: ColumnTransformer</label><div class=\"sk-toggleable__content\"><pre>ColumnTransformer(transformers=[(&#x27;numerical_pipeline&#x27;,\n",
       "                                 Pipeline(steps=[(&#x27;imputer&#x27;, KNNImputer()),\n",
       "                                                 (&#x27;scaler&#x27;,\n",
       "                                                  RobustScaler(with_centering=False,\n",
       "                                                               with_scaling=False)),\n",
       "                                                 (&#x27;pca&#x27;,\n",
       "                                                  PCA_Transform(all_columns=[&#x27;floorCount&#x27;,\n",
       "                                                                             &#x27;latitude&#x27;,\n",
       "                                                                             &#x27;centreDistance&#x27;,\n",
       "                                                                             &#x27;floor&#x27;,\n",
       "                                                                             &#x27;schoolDistance&#x27;,\n",
       "                                                                             &#x27;pharmacyDistance&#x27;,\n",
       "                                                                             &#x27;restaurantDistance&#x27;,\n",
       "                                                                             &#x27;kindergartenDistance&#x27;,\n",
       "                                                                             &#x27;clinicDistance&#x27;,\n",
       "                                                                             &#x27;postOffic...\n",
       "                                 [&#x27;floorCount&#x27;, &#x27;latitude&#x27;, &#x27;centreDistance&#x27;,\n",
       "                                  &#x27;floor&#x27;, &#x27;schoolDistance&#x27;, &#x27;pharmacyDistance&#x27;,\n",
       "                                  &#x27;restaurantDistance&#x27;, &#x27;kindergartenDistance&#x27;,\n",
       "                                  &#x27;clinicDistance&#x27;, &#x27;postOfficeDistance&#x27;,\n",
       "                                  &#x27;collegeDistance&#x27;]),\n",
       "                                (&#x27;categorical_pipeline&#x27;,\n",
       "                                 Pipeline(steps=[(&#x27;encoder&#x27;,\n",
       "                                                  OneHotEncoder(sparse_output=False)),\n",
       "                                                 (&#x27;scaler&#x27;,\n",
       "                                                  RobustScaler(with_centering=False,\n",
       "                                                               with_scaling=False))]),\n",
       "                                 [&#x27;city&#x27;, &#x27;type&#x27;, &#x27;hasElevator&#x27;, &#x27;ownership&#x27;])])</pre></div></div></div><div class=\"sk-parallel\"><div class=\"sk-parallel-item\"><div class=\"sk-item\"><div class=\"sk-label-container\"><div class=\"sk-label sk-toggleable\"><input class=\"sk-toggleable__control sk-hidden--visually\" id=\"sk-estimator-id-44\" type=\"checkbox\" ><label for=\"sk-estimator-id-44\" class=\"sk-toggleable__label sk-toggleable__label-arrow\">numerical_pipeline</label><div class=\"sk-toggleable__content\"><pre>[&#x27;floorCount&#x27;, &#x27;latitude&#x27;, &#x27;centreDistance&#x27;, &#x27;floor&#x27;, &#x27;schoolDistance&#x27;, &#x27;pharmacyDistance&#x27;, &#x27;restaurantDistance&#x27;, &#x27;kindergartenDistance&#x27;, &#x27;clinicDistance&#x27;, &#x27;postOfficeDistance&#x27;, &#x27;collegeDistance&#x27;]</pre></div></div></div><div class=\"sk-serial\"><div class=\"sk-item\"><div class=\"sk-serial\"><div class=\"sk-item\"><div class=\"sk-estimator sk-toggleable\"><input class=\"sk-toggleable__control sk-hidden--visually\" id=\"sk-estimator-id-45\" type=\"checkbox\" ><label for=\"sk-estimator-id-45\" class=\"sk-toggleable__label sk-toggleable__label-arrow\">KNNImputer</label><div class=\"sk-toggleable__content\"><pre>KNNImputer()</pre></div></div></div><div class=\"sk-item\"><div class=\"sk-estimator sk-toggleable\"><input class=\"sk-toggleable__control sk-hidden--visually\" id=\"sk-estimator-id-46\" type=\"checkbox\" ><label for=\"sk-estimator-id-46\" class=\"sk-toggleable__label sk-toggleable__label-arrow\">RobustScaler</label><div class=\"sk-toggleable__content\"><pre>RobustScaler(with_centering=False, with_scaling=False)</pre></div></div></div><div class=\"sk-item\"><div class=\"sk-estimator sk-toggleable\"><input class=\"sk-toggleable__control sk-hidden--visually\" id=\"sk-estimator-id-47\" type=\"checkbox\" ><label for=\"sk-estimator-id-47\" class=\"sk-toggleable__label sk-toggleable__label-arrow\">PCA_Transform</label><div class=\"sk-toggleable__content\"><pre>PCA_Transform(all_columns=[&#x27;floorCount&#x27;, &#x27;latitude&#x27;, &#x27;centreDistance&#x27;, &#x27;floor&#x27;,\n",
       "                           &#x27;schoolDistance&#x27;, &#x27;pharmacyDistance&#x27;,\n",
       "                           &#x27;restaurantDistance&#x27;, &#x27;kindergartenDistance&#x27;,\n",
       "                           &#x27;clinicDistance&#x27;, &#x27;postOfficeDistance&#x27;,\n",
       "                           &#x27;collegeDistance&#x27;])</pre></div></div></div></div></div></div></div></div><div class=\"sk-parallel-item\"><div class=\"sk-item\"><div class=\"sk-label-container\"><div class=\"sk-label sk-toggleable\"><input class=\"sk-toggleable__control sk-hidden--visually\" id=\"sk-estimator-id-48\" type=\"checkbox\" ><label for=\"sk-estimator-id-48\" class=\"sk-toggleable__label sk-toggleable__label-arrow\">categorical_pipeline</label><div class=\"sk-toggleable__content\"><pre>[&#x27;city&#x27;, &#x27;type&#x27;, &#x27;hasElevator&#x27;, &#x27;ownership&#x27;]</pre></div></div></div><div class=\"sk-serial\"><div class=\"sk-item\"><div class=\"sk-serial\"><div class=\"sk-item\"><div class=\"sk-estimator sk-toggleable\"><input class=\"sk-toggleable__control sk-hidden--visually\" id=\"sk-estimator-id-49\" type=\"checkbox\" ><label for=\"sk-estimator-id-49\" class=\"sk-toggleable__label sk-toggleable__label-arrow\">OneHotEncoder</label><div class=\"sk-toggleable__content\"><pre>OneHotEncoder(sparse_output=False)</pre></div></div></div><div class=\"sk-item\"><div class=\"sk-estimator sk-toggleable\"><input class=\"sk-toggleable__control sk-hidden--visually\" id=\"sk-estimator-id-50\" type=\"checkbox\" ><label for=\"sk-estimator-id-50\" class=\"sk-toggleable__label sk-toggleable__label-arrow\">RobustScaler</label><div class=\"sk-toggleable__content\"><pre>RobustScaler(with_centering=False, with_scaling=False)</pre></div></div></div></div></div></div></div></div></div></div><div class=\"sk-item\"><div class=\"sk-estimator sk-toggleable\"><input class=\"sk-toggleable__control sk-hidden--visually\" id=\"sk-estimator-id-51\" type=\"checkbox\" ><label for=\"sk-estimator-id-51\" class=\"sk-toggleable__label sk-toggleable__label-arrow\">ExtraTreesRegressor</label><div class=\"sk-toggleable__content\"><pre>ExtraTreesRegressor(max_depth=20, max_features=0.3227371977621448,\n",
       "                    n_estimators=830, n_jobs=-1, random_state=42)</pre></div></div></div></div></div></div></div>"
      ],
      "text/plain": [
       "Pipeline(steps=[('processor',\n",
       "                 ColumnTransformer(transformers=[('numerical_pipeline',\n",
       "                                                  Pipeline(steps=[('imputer',\n",
       "                                                                   KNNImputer()),\n",
       "                                                                  ('scaler',\n",
       "                                                                   RobustScaler(with_centering=False,\n",
       "                                                                                with_scaling=False)),\n",
       "                                                                  ('pca',\n",
       "                                                                   PCA_Transform(all_columns=['floorCount',\n",
       "                                                                                              'latitude',\n",
       "                                                                                              'centreDistance',\n",
       "                                                                                              'floor',\n",
       "                                                                                              'schoolDistance',\n",
       "                                                                                              'pharmacyDistance',\n",
       "                                                                                              'restaurantDistance',\n",
       "                                                                                              'kindergartenDistance...\n",
       "                                                   'postOfficeDistance',\n",
       "                                                   'collegeDistance']),\n",
       "                                                 ('categorical_pipeline',\n",
       "                                                  Pipeline(steps=[('encoder',\n",
       "                                                                   OneHotEncoder(sparse_output=False)),\n",
       "                                                                  ('scaler',\n",
       "                                                                   RobustScaler(with_centering=False,\n",
       "                                                                                with_scaling=False))]),\n",
       "                                                  ['city', 'type',\n",
       "                                                   'hasElevator',\n",
       "                                                   'ownership'])])),\n",
       "                ('learner',\n",
       "                 ExtraTreesRegressor(max_depth=20,\n",
       "                                     max_features=0.3227371977621448,\n",
       "                                     n_estimators=830, n_jobs=-1,\n",
       "                                     random_state=42))])"
      ]
     },
     "execution_count": 161,
     "metadata": {},
     "output_type": "execute_result"
    }
   ],
   "source": [
    "model.fit(X_train,y_train)"
   ]
  },
  {
   "cell_type": "code",
   "execution_count": 162,
   "metadata": {},
   "outputs": [
    {
     "name": "stdout",
     "output_type": "stream",
     "text": [
      "0.24619915690923752\n"
     ]
    }
   ],
   "source": [
    "y_pred = model.predict(X_val)\n",
    "mape = mean_absolute_percentage_error(y_val, y_pred)\n",
    "print(mape)\n"
   ]
  },
  {
   "cell_type": "code",
   "execution_count": 43,
   "metadata": {},
   "outputs": [
    {
     "data": {
      "text/html": [
       "<div>\n",
       "<style scoped>\n",
       "    .dataframe tbody tr th:only-of-type {\n",
       "        vertical-align: middle;\n",
       "    }\n",
       "\n",
       "    .dataframe tbody tr th {\n",
       "        vertical-align: top;\n",
       "    }\n",
       "\n",
       "    .dataframe thead th {\n",
       "        text-align: right;\n",
       "    }\n",
       "</style>\n",
       "<table border=\"1\" class=\"dataframe\">\n",
       "  <thead>\n",
       "    <tr style=\"text-align: right;\">\n",
       "      <th></th>\n",
       "      <th>number</th>\n",
       "      <th>value</th>\n",
       "      <th>datetime_start</th>\n",
       "      <th>datetime_complete</th>\n",
       "      <th>duration</th>\n",
       "      <th>params_algorithm</th>\n",
       "      <th>params_bootstrap</th>\n",
       "      <th>params_buildYear</th>\n",
       "      <th>params_centreDistance</th>\n",
       "      <th>params_city</th>\n",
       "      <th>...</th>\n",
       "      <th>params_pharmacyDistance</th>\n",
       "      <th>params_poiCount</th>\n",
       "      <th>params_postOfficeDistance</th>\n",
       "      <th>params_restaurantDistance</th>\n",
       "      <th>params_schoolDistance</th>\n",
       "      <th>params_squareMeters</th>\n",
       "      <th>params_type</th>\n",
       "      <th>params_with_centering</th>\n",
       "      <th>params_with_scaling</th>\n",
       "      <th>state</th>\n",
       "    </tr>\n",
       "  </thead>\n",
       "  <tbody>\n",
       "    <tr>\n",
       "      <th>28</th>\n",
       "      <td>28</td>\n",
       "      <td>-0.116479</td>\n",
       "      <td>2024-02-20 11:41:10.127704</td>\n",
       "      <td>2024-02-20 11:41:26.622869</td>\n",
       "      <td>0 days 00:00:16.495165</td>\n",
       "      <td>forest</td>\n",
       "      <td>False</td>\n",
       "      <td>True</td>\n",
       "      <td>True</td>\n",
       "      <td>True</td>\n",
       "      <td>...</td>\n",
       "      <td>True</td>\n",
       "      <td>False</td>\n",
       "      <td>True</td>\n",
       "      <td>True</td>\n",
       "      <td>True</td>\n",
       "      <td>True</td>\n",
       "      <td>False</td>\n",
       "      <td>True</td>\n",
       "      <td>False</td>\n",
       "      <td>COMPLETE</td>\n",
       "    </tr>\n",
       "    <tr>\n",
       "      <th>33</th>\n",
       "      <td>33</td>\n",
       "      <td>-0.119815</td>\n",
       "      <td>2024-02-20 11:53:12.370758</td>\n",
       "      <td>2024-02-20 11:53:28.131385</td>\n",
       "      <td>0 days 00:00:15.760627</td>\n",
       "      <td>forest</td>\n",
       "      <td>False</td>\n",
       "      <td>True</td>\n",
       "      <td>True</td>\n",
       "      <td>True</td>\n",
       "      <td>...</td>\n",
       "      <td>True</td>\n",
       "      <td>False</td>\n",
       "      <td>True</td>\n",
       "      <td>True</td>\n",
       "      <td>True</td>\n",
       "      <td>True</td>\n",
       "      <td>False</td>\n",
       "      <td>True</td>\n",
       "      <td>False</td>\n",
       "      <td>COMPLETE</td>\n",
       "    </tr>\n",
       "    <tr>\n",
       "      <th>32</th>\n",
       "      <td>32</td>\n",
       "      <td>-0.119997</td>\n",
       "      <td>2024-02-20 11:48:07.398265</td>\n",
       "      <td>2024-02-20 11:48:23.952569</td>\n",
       "      <td>0 days 00:00:16.554304</td>\n",
       "      <td>forest</td>\n",
       "      <td>False</td>\n",
       "      <td>True</td>\n",
       "      <td>True</td>\n",
       "      <td>True</td>\n",
       "      <td>...</td>\n",
       "      <td>True</td>\n",
       "      <td>False</td>\n",
       "      <td>True</td>\n",
       "      <td>True</td>\n",
       "      <td>True</td>\n",
       "      <td>True</td>\n",
       "      <td>False</td>\n",
       "      <td>True</td>\n",
       "      <td>False</td>\n",
       "      <td>COMPLETE</td>\n",
       "    </tr>\n",
       "    <tr>\n",
       "      <th>31</th>\n",
       "      <td>31</td>\n",
       "      <td>-0.120288</td>\n",
       "      <td>2024-02-20 11:47:46.622718</td>\n",
       "      <td>2024-02-20 11:48:07.373854</td>\n",
       "      <td>0 days 00:00:20.751136</td>\n",
       "      <td>forest</td>\n",
       "      <td>False</td>\n",
       "      <td>True</td>\n",
       "      <td>True</td>\n",
       "      <td>True</td>\n",
       "      <td>...</td>\n",
       "      <td>True</td>\n",
       "      <td>False</td>\n",
       "      <td>True</td>\n",
       "      <td>True</td>\n",
       "      <td>True</td>\n",
       "      <td>True</td>\n",
       "      <td>False</td>\n",
       "      <td>True</td>\n",
       "      <td>False</td>\n",
       "      <td>COMPLETE</td>\n",
       "    </tr>\n",
       "    <tr>\n",
       "      <th>35</th>\n",
       "      <td>35</td>\n",
       "      <td>-0.124861</td>\n",
       "      <td>2024-02-20 11:57:00.357053</td>\n",
       "      <td>2024-02-20 11:57:13.977172</td>\n",
       "      <td>0 days 00:00:13.620119</td>\n",
       "      <td>forest</td>\n",
       "      <td>False</td>\n",
       "      <td>True</td>\n",
       "      <td>True</td>\n",
       "      <td>True</td>\n",
       "      <td>...</td>\n",
       "      <td>True</td>\n",
       "      <td>False</td>\n",
       "      <td>True</td>\n",
       "      <td>True</td>\n",
       "      <td>True</td>\n",
       "      <td>True</td>\n",
       "      <td>False</td>\n",
       "      <td>True</td>\n",
       "      <td>False</td>\n",
       "      <td>COMPLETE</td>\n",
       "    </tr>\n",
       "  </tbody>\n",
       "</table>\n",
       "<p>5 rows × 40 columns</p>\n",
       "</div>"
      ],
      "text/plain": [
       "    number     value             datetime_start          datetime_complete  \\\n",
       "28      28 -0.116479 2024-02-20 11:41:10.127704 2024-02-20 11:41:26.622869   \n",
       "33      33 -0.119815 2024-02-20 11:53:12.370758 2024-02-20 11:53:28.131385   \n",
       "32      32 -0.119997 2024-02-20 11:48:07.398265 2024-02-20 11:48:23.952569   \n",
       "31      31 -0.120288 2024-02-20 11:47:46.622718 2024-02-20 11:48:07.373854   \n",
       "35      35 -0.124861 2024-02-20 11:57:00.357053 2024-02-20 11:57:13.977172   \n",
       "\n",
       "                 duration params_algorithm params_bootstrap  params_buildYear  \\\n",
       "28 0 days 00:00:16.495165           forest            False              True   \n",
       "33 0 days 00:00:15.760627           forest            False              True   \n",
       "32 0 days 00:00:16.554304           forest            False              True   \n",
       "31 0 days 00:00:20.751136           forest            False              True   \n",
       "35 0 days 00:00:13.620119           forest            False              True   \n",
       "\n",
       "    params_centreDistance  params_city  ...  params_pharmacyDistance  \\\n",
       "28                   True         True  ...                     True   \n",
       "33                   True         True  ...                     True   \n",
       "32                   True         True  ...                     True   \n",
       "31                   True         True  ...                     True   \n",
       "35                   True         True  ...                     True   \n",
       "\n",
       "    params_poiCount params_postOfficeDistance params_restaurantDistance  \\\n",
       "28            False                      True                      True   \n",
       "33            False                      True                      True   \n",
       "32            False                      True                      True   \n",
       "31            False                      True                      True   \n",
       "35            False                      True                      True   \n",
       "\n",
       "    params_schoolDistance  params_squareMeters  params_type  \\\n",
       "28                   True                 True        False   \n",
       "33                   True                 True        False   \n",
       "32                   True                 True        False   \n",
       "31                   True                 True        False   \n",
       "35                   True                 True        False   \n",
       "\n",
       "    params_with_centering  params_with_scaling     state  \n",
       "28                   True                False  COMPLETE  \n",
       "33                   True                False  COMPLETE  \n",
       "32                   True                False  COMPLETE  \n",
       "31                   True                False  COMPLETE  \n",
       "35                   True                False  COMPLETE  \n",
       "\n",
       "[5 rows x 40 columns]"
      ]
     },
     "execution_count": 43,
     "metadata": {},
     "output_type": "execute_result"
    }
   ],
   "source": [
    "study_df = study.trials_dataframe()\n",
    "study_df.sort_values('value', ascending=False).head()"
   ]
  },
  {
   "cell_type": "code",
   "execution_count": 51,
   "metadata": {},
   "outputs": [
    {
     "name": "stdout",
     "output_type": "stream",
     "text": [
      "['params_algorithm', 'params_bootstrap', 'params_buildYear', 'params_centreDistance', 'params_city', 'params_clinicDistance', 'params_collegeDistance', 'params_encoding_method', 'params_fit_intercept', 'params_floor', 'params_floorCount', 'params_hasBalcony', 'params_hasElevator', 'params_hasParkingSpace', 'params_hasSecurity', 'params_hasStorageRoom', 'params_imputing_method', 'params_indicate_missing', 'params_kindergartenDistance', 'params_latitude', 'params_longitude', 'params_max_depth', 'params_max_features', 'params_n_estimators', 'params_ownership', 'params_pharmacyDistance', 'params_poiCount', 'params_postOfficeDistance', 'params_restaurantDistance', 'params_schoolDistance', 'params_squareMeters', 'params_type', 'params_with_centering', 'params_with_scaling']\n"
     ]
    }
   ],
   "source": [
    "params_list = [param for param in study_df.columns if param.startswith(\"params_\")]\n",
    "print(params_list)"
   ]
  },
  {
   "cell_type": "code",
   "execution_count": 55,
   "metadata": {},
   "outputs": [
    {
     "name": "stdout",
     "output_type": "stream",
     "text": [
      "{'algorithm': 'forest', 'bootstrap': False, 'buildYear': True, 'centreDistance': True, 'city': True, 'clinicDistance': True, 'collegeDistance': True, 'encoding_method': 'onehot', 'fit_intercept': nan, 'floor': True, 'floorCount': True, 'hasBalcony': True, 'hasElevator': True, 'hasParkingSpace': False, 'hasSecurity': True, 'hasStorageRoom': False, 'imputing_method': 'simple', 'indicate_missing': 'yes', 'kindergartenDistance': True, 'latitude': True, 'longitude': True, 'max_depth': 12.0, 'max_features': 0.6717325134150298, 'n_estimators': 803.0, 'ownership': True, 'pharmacyDistance': True, 'poiCount': False, 'postOfficeDistance': True, 'restaurantDistance': True, 'schoolDistance': True, 'squareMeters': True, 'type': False, 'with_centering': True, 'with_scaling': False}\n"
     ]
    }
   ],
   "source": [
    "params = study_df.sort_values('value', ascending=False)[params_list][:1].to_dict('records')[0]\n",
    "params_proper_names = {k.replace(\"params_\",''):v for k,v in params.items()}\n",
    "print(params_proper_names)"
   ]
  },
  {
   "cell_type": "code",
   "execution_count": 44,
   "metadata": {},
   "outputs": [],
   "source": [
    "from optuna.trial import FixedTrial"
   ]
  },
  {
   "cell_type": "code",
   "execution_count": 56,
   "metadata": {},
   "outputs": [
    {
     "data": {
      "text/plain": [
       "-0.11666139169496867"
      ]
     },
     "execution_count": 56,
     "metadata": {},
     "output_type": "execute_result"
    }
   ],
   "source": [
    "objective(FixedTrial(params_proper_names), X_train, y_train,numerical_columns=num_columns, categorical_columns=cat_columns)"
   ]
  },
  {
   "cell_type": "code",
   "execution_count": 57,
   "metadata": {},
   "outputs": [
    {
     "name": "stderr",
     "output_type": "stream",
     "text": [
      "[W 2024-02-21 09:08:43,791] Trial 39 failed with parameters: {} because of the following error: TypeError(\"'numpy.float64' object is not callable\").\n",
      "Traceback (most recent call last):\n",
      "  File \"/home/piotr/projects/ml-project/.venv/lib/python3.10/site-packages/optuna/study/_optimize.py\", line 200, in _run_trial\n",
      "    value_or_values = func(trial)\n",
      "TypeError: 'numpy.float64' object is not callable\n",
      "[W 2024-02-21 09:08:43,792] Trial 39 failed with value None.\n"
     ]
    },
    {
     "ename": "TypeError",
     "evalue": "'numpy.float64' object is not callable",
     "output_type": "error",
     "traceback": [
      "\u001b[0;31m---------------------------------------------------------------------------\u001b[0m",
      "\u001b[0;31mTypeError\u001b[0m                                 Traceback (most recent call last)",
      "Cell \u001b[0;32mIn[57], line 1\u001b[0m\n\u001b[0;32m----> 1\u001b[0m study_fin \u001b[38;5;241m=\u001b[39m \u001b[43mstudy\u001b[49m\u001b[38;5;241;43m.\u001b[39;49m\u001b[43moptimize\u001b[49m\u001b[43m(\u001b[49m\u001b[43mobjective\u001b[49m\u001b[43m(\u001b[49m\u001b[43mFixedTrial\u001b[49m\u001b[43m(\u001b[49m\u001b[43mparams_proper_names\u001b[49m\u001b[43m)\u001b[49m\u001b[43m,\u001b[49m\u001b[43m \u001b[49m\u001b[43mX_train\u001b[49m\u001b[43m,\u001b[49m\u001b[43m \u001b[49m\u001b[43my_train\u001b[49m\u001b[43m,\u001b[49m\u001b[43mnumerical_columns\u001b[49m\u001b[38;5;241;43m=\u001b[39;49m\u001b[43mnum_columns\u001b[49m\u001b[43m,\u001b[49m\u001b[43m \u001b[49m\u001b[43mcategorical_columns\u001b[49m\u001b[38;5;241;43m=\u001b[39;49m\u001b[43mcat_columns\u001b[49m\u001b[43m)\u001b[49m\u001b[43m,\u001b[49m\u001b[43m \u001b[49m\u001b[43mn_trials\u001b[49m\u001b[38;5;241;43m=\u001b[39;49m\u001b[38;5;241;43m2\u001b[39;49m\u001b[43m)\u001b[49m\n",
      "File \u001b[0;32m~/projects/ml-project/.venv/lib/python3.10/site-packages/optuna/study/study.py:451\u001b[0m, in \u001b[0;36mStudy.optimize\u001b[0;34m(self, func, n_trials, timeout, n_jobs, catch, callbacks, gc_after_trial, show_progress_bar)\u001b[0m\n\u001b[1;32m    348\u001b[0m \u001b[38;5;28;01mdef\u001b[39;00m \u001b[38;5;21moptimize\u001b[39m(\n\u001b[1;32m    349\u001b[0m     \u001b[38;5;28mself\u001b[39m,\n\u001b[1;32m    350\u001b[0m     func: ObjectiveFuncType,\n\u001b[0;32m   (...)\u001b[0m\n\u001b[1;32m    357\u001b[0m     show_progress_bar: \u001b[38;5;28mbool\u001b[39m \u001b[38;5;241m=\u001b[39m \u001b[38;5;28;01mFalse\u001b[39;00m,\n\u001b[1;32m    358\u001b[0m ) \u001b[38;5;241m-\u001b[39m\u001b[38;5;241m>\u001b[39m \u001b[38;5;28;01mNone\u001b[39;00m:\n\u001b[1;32m    359\u001b[0m \u001b[38;5;250m    \u001b[39m\u001b[38;5;124;03m\"\"\"Optimize an objective function.\u001b[39;00m\n\u001b[1;32m    360\u001b[0m \n\u001b[1;32m    361\u001b[0m \u001b[38;5;124;03m    Optimization is done by choosing a suitable set of hyperparameter values from a given\u001b[39;00m\n\u001b[0;32m   (...)\u001b[0m\n\u001b[1;32m    449\u001b[0m \u001b[38;5;124;03m            If nested invocation of this method occurs.\u001b[39;00m\n\u001b[1;32m    450\u001b[0m \u001b[38;5;124;03m    \"\"\"\u001b[39;00m\n\u001b[0;32m--> 451\u001b[0m     \u001b[43m_optimize\u001b[49m\u001b[43m(\u001b[49m\n\u001b[1;32m    452\u001b[0m \u001b[43m        \u001b[49m\u001b[43mstudy\u001b[49m\u001b[38;5;241;43m=\u001b[39;49m\u001b[38;5;28;43mself\u001b[39;49m\u001b[43m,\u001b[49m\n\u001b[1;32m    453\u001b[0m \u001b[43m        \u001b[49m\u001b[43mfunc\u001b[49m\u001b[38;5;241;43m=\u001b[39;49m\u001b[43mfunc\u001b[49m\u001b[43m,\u001b[49m\n\u001b[1;32m    454\u001b[0m \u001b[43m        \u001b[49m\u001b[43mn_trials\u001b[49m\u001b[38;5;241;43m=\u001b[39;49m\u001b[43mn_trials\u001b[49m\u001b[43m,\u001b[49m\n\u001b[1;32m    455\u001b[0m \u001b[43m        \u001b[49m\u001b[43mtimeout\u001b[49m\u001b[38;5;241;43m=\u001b[39;49m\u001b[43mtimeout\u001b[49m\u001b[43m,\u001b[49m\n\u001b[1;32m    456\u001b[0m \u001b[43m        \u001b[49m\u001b[43mn_jobs\u001b[49m\u001b[38;5;241;43m=\u001b[39;49m\u001b[43mn_jobs\u001b[49m\u001b[43m,\u001b[49m\n\u001b[1;32m    457\u001b[0m \u001b[43m        \u001b[49m\u001b[43mcatch\u001b[49m\u001b[38;5;241;43m=\u001b[39;49m\u001b[38;5;28;43mtuple\u001b[39;49m\u001b[43m(\u001b[49m\u001b[43mcatch\u001b[49m\u001b[43m)\u001b[49m\u001b[43m \u001b[49m\u001b[38;5;28;43;01mif\u001b[39;49;00m\u001b[43m \u001b[49m\u001b[38;5;28;43misinstance\u001b[39;49m\u001b[43m(\u001b[49m\u001b[43mcatch\u001b[49m\u001b[43m,\u001b[49m\u001b[43m \u001b[49m\u001b[43mIterable\u001b[49m\u001b[43m)\u001b[49m\u001b[43m \u001b[49m\u001b[38;5;28;43;01melse\u001b[39;49;00m\u001b[43m \u001b[49m\u001b[43m(\u001b[49m\u001b[43mcatch\u001b[49m\u001b[43m,\u001b[49m\u001b[43m)\u001b[49m\u001b[43m,\u001b[49m\n\u001b[1;32m    458\u001b[0m \u001b[43m        \u001b[49m\u001b[43mcallbacks\u001b[49m\u001b[38;5;241;43m=\u001b[39;49m\u001b[43mcallbacks\u001b[49m\u001b[43m,\u001b[49m\n\u001b[1;32m    459\u001b[0m \u001b[43m        \u001b[49m\u001b[43mgc_after_trial\u001b[49m\u001b[38;5;241;43m=\u001b[39;49m\u001b[43mgc_after_trial\u001b[49m\u001b[43m,\u001b[49m\n\u001b[1;32m    460\u001b[0m \u001b[43m        \u001b[49m\u001b[43mshow_progress_bar\u001b[49m\u001b[38;5;241;43m=\u001b[39;49m\u001b[43mshow_progress_bar\u001b[49m\u001b[43m,\u001b[49m\n\u001b[1;32m    461\u001b[0m \u001b[43m    \u001b[49m\u001b[43m)\u001b[49m\n",
      "File \u001b[0;32m~/projects/ml-project/.venv/lib/python3.10/site-packages/optuna/study/_optimize.py:66\u001b[0m, in \u001b[0;36m_optimize\u001b[0;34m(study, func, n_trials, timeout, n_jobs, catch, callbacks, gc_after_trial, show_progress_bar)\u001b[0m\n\u001b[1;32m     64\u001b[0m \u001b[38;5;28;01mtry\u001b[39;00m:\n\u001b[1;32m     65\u001b[0m     \u001b[38;5;28;01mif\u001b[39;00m n_jobs \u001b[38;5;241m==\u001b[39m \u001b[38;5;241m1\u001b[39m:\n\u001b[0;32m---> 66\u001b[0m         \u001b[43m_optimize_sequential\u001b[49m\u001b[43m(\u001b[49m\n\u001b[1;32m     67\u001b[0m \u001b[43m            \u001b[49m\u001b[43mstudy\u001b[49m\u001b[43m,\u001b[49m\n\u001b[1;32m     68\u001b[0m \u001b[43m            \u001b[49m\u001b[43mfunc\u001b[49m\u001b[43m,\u001b[49m\n\u001b[1;32m     69\u001b[0m \u001b[43m            \u001b[49m\u001b[43mn_trials\u001b[49m\u001b[43m,\u001b[49m\n\u001b[1;32m     70\u001b[0m \u001b[43m            \u001b[49m\u001b[43mtimeout\u001b[49m\u001b[43m,\u001b[49m\n\u001b[1;32m     71\u001b[0m \u001b[43m            \u001b[49m\u001b[43mcatch\u001b[49m\u001b[43m,\u001b[49m\n\u001b[1;32m     72\u001b[0m \u001b[43m            \u001b[49m\u001b[43mcallbacks\u001b[49m\u001b[43m,\u001b[49m\n\u001b[1;32m     73\u001b[0m \u001b[43m            \u001b[49m\u001b[43mgc_after_trial\u001b[49m\u001b[43m,\u001b[49m\n\u001b[1;32m     74\u001b[0m \u001b[43m            \u001b[49m\u001b[43mreseed_sampler_rng\u001b[49m\u001b[38;5;241;43m=\u001b[39;49m\u001b[38;5;28;43;01mFalse\u001b[39;49;00m\u001b[43m,\u001b[49m\n\u001b[1;32m     75\u001b[0m \u001b[43m            \u001b[49m\u001b[43mtime_start\u001b[49m\u001b[38;5;241;43m=\u001b[39;49m\u001b[38;5;28;43;01mNone\u001b[39;49;00m\u001b[43m,\u001b[49m\n\u001b[1;32m     76\u001b[0m \u001b[43m            \u001b[49m\u001b[43mprogress_bar\u001b[49m\u001b[38;5;241;43m=\u001b[39;49m\u001b[43mprogress_bar\u001b[49m\u001b[43m,\u001b[49m\n\u001b[1;32m     77\u001b[0m \u001b[43m        \u001b[49m\u001b[43m)\u001b[49m\n\u001b[1;32m     78\u001b[0m     \u001b[38;5;28;01melse\u001b[39;00m:\n\u001b[1;32m     79\u001b[0m         \u001b[38;5;28;01mif\u001b[39;00m n_jobs \u001b[38;5;241m==\u001b[39m \u001b[38;5;241m-\u001b[39m\u001b[38;5;241m1\u001b[39m:\n",
      "File \u001b[0;32m~/projects/ml-project/.venv/lib/python3.10/site-packages/optuna/study/_optimize.py:163\u001b[0m, in \u001b[0;36m_optimize_sequential\u001b[0;34m(study, func, n_trials, timeout, catch, callbacks, gc_after_trial, reseed_sampler_rng, time_start, progress_bar)\u001b[0m\n\u001b[1;32m    160\u001b[0m         \u001b[38;5;28;01mbreak\u001b[39;00m\n\u001b[1;32m    162\u001b[0m \u001b[38;5;28;01mtry\u001b[39;00m:\n\u001b[0;32m--> 163\u001b[0m     frozen_trial \u001b[38;5;241m=\u001b[39m \u001b[43m_run_trial\u001b[49m\u001b[43m(\u001b[49m\u001b[43mstudy\u001b[49m\u001b[43m,\u001b[49m\u001b[43m \u001b[49m\u001b[43mfunc\u001b[49m\u001b[43m,\u001b[49m\u001b[43m \u001b[49m\u001b[43mcatch\u001b[49m\u001b[43m)\u001b[49m\n\u001b[1;32m    164\u001b[0m \u001b[38;5;28;01mfinally\u001b[39;00m:\n\u001b[1;32m    165\u001b[0m     \u001b[38;5;66;03m# The following line mitigates memory problems that can be occurred in some\u001b[39;00m\n\u001b[1;32m    166\u001b[0m     \u001b[38;5;66;03m# environments (e.g., services that use computing containers such as GitHub Actions).\u001b[39;00m\n\u001b[1;32m    167\u001b[0m     \u001b[38;5;66;03m# Please refer to the following PR for further details:\u001b[39;00m\n\u001b[1;32m    168\u001b[0m     \u001b[38;5;66;03m# https://github.com/optuna/optuna/pull/325.\u001b[39;00m\n\u001b[1;32m    169\u001b[0m     \u001b[38;5;28;01mif\u001b[39;00m gc_after_trial:\n",
      "File \u001b[0;32m~/projects/ml-project/.venv/lib/python3.10/site-packages/optuna/study/_optimize.py:251\u001b[0m, in \u001b[0;36m_run_trial\u001b[0;34m(study, func, catch)\u001b[0m\n\u001b[1;32m    244\u001b[0m         \u001b[38;5;28;01massert\u001b[39;00m \u001b[38;5;28;01mFalse\u001b[39;00m, \u001b[38;5;124m\"\u001b[39m\u001b[38;5;124mShould not reach.\u001b[39m\u001b[38;5;124m\"\u001b[39m\n\u001b[1;32m    246\u001b[0m \u001b[38;5;28;01mif\u001b[39;00m (\n\u001b[1;32m    247\u001b[0m     frozen_trial\u001b[38;5;241m.\u001b[39mstate \u001b[38;5;241m==\u001b[39m TrialState\u001b[38;5;241m.\u001b[39mFAIL\n\u001b[1;32m    248\u001b[0m     \u001b[38;5;129;01mand\u001b[39;00m func_err \u001b[38;5;129;01mis\u001b[39;00m \u001b[38;5;129;01mnot\u001b[39;00m \u001b[38;5;28;01mNone\u001b[39;00m\n\u001b[1;32m    249\u001b[0m     \u001b[38;5;129;01mand\u001b[39;00m \u001b[38;5;129;01mnot\u001b[39;00m \u001b[38;5;28misinstance\u001b[39m(func_err, catch)\n\u001b[1;32m    250\u001b[0m ):\n\u001b[0;32m--> 251\u001b[0m     \u001b[38;5;28;01mraise\u001b[39;00m func_err\n\u001b[1;32m    252\u001b[0m \u001b[38;5;28;01mreturn\u001b[39;00m frozen_trial\n",
      "File \u001b[0;32m~/projects/ml-project/.venv/lib/python3.10/site-packages/optuna/study/_optimize.py:200\u001b[0m, in \u001b[0;36m_run_trial\u001b[0;34m(study, func, catch)\u001b[0m\n\u001b[1;32m    198\u001b[0m \u001b[38;5;28;01mwith\u001b[39;00m get_heartbeat_thread(trial\u001b[38;5;241m.\u001b[39m_trial_id, study\u001b[38;5;241m.\u001b[39m_storage):\n\u001b[1;32m    199\u001b[0m     \u001b[38;5;28;01mtry\u001b[39;00m:\n\u001b[0;32m--> 200\u001b[0m         value_or_values \u001b[38;5;241m=\u001b[39m \u001b[43mfunc\u001b[49m\u001b[43m(\u001b[49m\u001b[43mtrial\u001b[49m\u001b[43m)\u001b[49m\n\u001b[1;32m    201\u001b[0m     \u001b[38;5;28;01mexcept\u001b[39;00m exceptions\u001b[38;5;241m.\u001b[39mTrialPruned \u001b[38;5;28;01mas\u001b[39;00m e:\n\u001b[1;32m    202\u001b[0m         \u001b[38;5;66;03m# TODO(mamu): Handle multi-objective cases.\u001b[39;00m\n\u001b[1;32m    203\u001b[0m         state \u001b[38;5;241m=\u001b[39m TrialState\u001b[38;5;241m.\u001b[39mPRUNED\n",
      "\u001b[0;31mTypeError\u001b[0m: 'numpy.float64' object is not callable"
     ]
    }
   ],
   "source": [
    "study_fin = study.optimize(objective(FixedTrial(params_proper_names), X_train, y_train,numerical_columns=num_columns, categorical_columns=cat_columns), n_trials=2)"
   ]
  }
 ],
 "metadata": {
  "kernelspec": {
   "display_name": ".venv",
   "language": "python",
   "name": "python3"
  },
  "language_info": {
   "codemirror_mode": {
    "name": "ipython",
    "version": 3
   },
   "file_extension": ".py",
   "mimetype": "text/x-python",
   "name": "python",
   "nbconvert_exporter": "python",
   "pygments_lexer": "ipython3",
   "version": "3.10.12"
  }
 },
 "nbformat": 4,
 "nbformat_minor": 2
}
